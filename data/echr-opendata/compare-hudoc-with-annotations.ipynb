{
 "cells": [
  {
   "cell_type": "markdown",
   "source": [
    "### Goal of this notebook\n",
    "Comparing Hudoc metadata with our annotations in terms of cited cases and articles."
   ],
   "metadata": {
    "collapsed": false,
    "pycharm": {
     "name": "#%% md\n"
    }
   }
  },
  {
   "cell_type": "code",
   "execution_count": 62,
   "outputs": [],
   "source": [
    "# IMPORTANT NOTE: some cases in 'form-responses.csv' are annotated multiple times!\n",
    "\n",
    "save = False"
   ],
   "metadata": {
    "collapsed": false,
    "pycharm": {
     "name": "#%%\n"
    }
   }
  },
  {
   "cell_type": "code",
   "execution_count": 63,
   "outputs": [],
   "source": [
    "import re\n",
    "from collections import Counter\n",
    "import itertools\n",
    "import numpy as np\n",
    "import pandas as pd\n",
    "import itertools\n",
    "import time\n",
    "import aiohttp\n",
    "import asyncio"
   ],
   "metadata": {
    "collapsed": false,
    "pycharm": {
     "name": "#%%\n"
    }
   }
  },
  {
   "cell_type": "code",
   "execution_count": null,
   "outputs": [],
   "source": [
    "df = pd.read_csv('form-responses.csv')\n",
    "df = df[~df['ECLI number'].isna()]\n",
    "\n",
    "# Get all unique ECLI numbers of our annotated cases\n",
    "annotated_cases = pd.DataFrame(index=df['ECLI number'].unique())\n",
    "\n",
    "# Assign Hudoc item id to cases based on ECLI\n",
    "ecli_map = pd.read_pickle('echr-data/ecli_map.pickle')\n",
    "\n",
    "def itemid(ecli):\n",
    "    try:\n",
    "        return ecli_map.loc[ecli]['itemid']\n",
    "    except KeyError:\n",
    "        return np.nan\n",
    "\n",
    "annotated_cases['itemid'] = annotated_cases.index.map(itemid)\n",
    "\n",
    "# See how many annotated cases have an Hudoc itemid\n",
    "nan_cases = annotated_cases[annotated_cases['itemid'].isna()]\n",
    "\n",
    "# Remove cases without Hudoc itemid\n",
    "annotated_cases = annotated_cases[~annotated_cases['itemid'].isna()]\n",
    "\n",
    "print(f\"Annotated cases WITH Hudoc itemid: {len(annotated_cases)}\")\n",
    "print(f\"Annotated cases WITHOUT Hudoc itemid: {len(nan_cases)}\") # <-- e.g. (partly) inadmissible decisions\n",
    "\n",
    "annotated_cases"
   ],
   "metadata": {
    "collapsed": false,
    "pycharm": {
     "name": "#%%\n"
    }
   }
  },
  {
   "cell_type": "code",
   "execution_count": 106,
   "outputs": [],
   "source": [
    "# STATISTICS (approach):\n",
    "#   1. Per case; get union of all cited articles, i.e. the union includes hudoc metadata and annotated articles.\n",
    "#   2. See how complete the cited articles are (for both hudoc/annotations) by comparing them to the union\n",
    "\n",
    "def statistics(hudoc_col, annotations_col, rm=None):\n",
    "\n",
    "    stats = annotated_cases.copy(deep=True)\n",
    "\n",
    "    for ecli, row in annotated_cases.iterrows():\n",
    "        stats_hudoc = set(row[hudoc_col])\n",
    "        stats_annotations = set(row[annotations_col])\n",
    "\n",
    "        union = stats_hudoc.union(stats_annotations)\n",
    "\n",
    "        if rm:\n",
    "            union.remove(row[rm][0])\n",
    "\n",
    "        int_hudoc = union.intersection(stats_hudoc)\n",
    "        int_annot = union.intersection(stats_annotations)\n",
    "\n",
    "\n",
    "        # % = % of all cited articles\n",
    "        stats.at[ecli, '% hudoc'] = round(len(int_hudoc) / len(union) * 100)\n",
    "        stats.at[ecli, '% annotations'] = round(len(int_annot) / len(union) * 100)\n",
    "\n",
    "    stats['% hudoc'] = stats['% hudoc'].astype(int)\n",
    "    stats['% annotations'] = stats['% annotations'].astype(int)\n",
    "\n",
    "    print(f\"Average hudoc: {round(stats['% hudoc'].mean())}%\")\n",
    "    print(f\"Average annotations: {round(stats['% annotations'].mean())}%\")\n",
    "\n",
    "    return stats"
   ],
   "metadata": {
    "collapsed": false,
    "pycharm": {
     "name": "#%%\n"
    }
   }
  },
  {
   "cell_type": "code",
   "execution_count": null,
   "outputs": [],
   "source": [
    "async def fetch_on_ecli(session, ecli: str, column: str):\n",
    "    \"\"\" Fetch the corresponding application number(s) of an ECLI number\"\"\"\n",
    "    ecli_encoded = ecli.replace(':', '%3A')\n",
    "    url = f\"https://hudoc.echr.coe.int/app/query/results?query=contentsitename%3AECHR%20AND%20(NOT%20(doctype%3DPR%20OR%20doctype%3DHFCOMOLD%20OR%20doctype%3DHECOMOLD))%20AND%20((languageisocode%3D%22ENG%22))%20AND%20((ecli%3A%22{ecli_encoded}%22))&select=sharepointid,Rank,ECHRRanking,languagenumber,itemid,docname,doctype,application,appno,conclusion,importance,originatingbody,typedescription,kpdate,kpdateAsText,documentcollectionid,documentcollectionid2,languageisocode,extractedappno,isplaceholder,doctypebranch,respondent,advopidentifier,advopstatus,ecli,appnoparts,sclappnos&sort=&start=0&length=20&rankingModelId=11111111-0000-0000-0000-000000000000\"\n",
    "    failed = False\n",
    "\n",
    "    while True:\n",
    "        async with session.get(url) as response:\n",
    "\n",
    "            try:\n",
    "                data = await response.json()\n",
    "            except:\n",
    "                print(f'{ecli} FAILED')\n",
    "                failed = True\n",
    "                time.sleep(1)\n",
    "                continue\n",
    "\n",
    "            if data['resultcount'] == 0:\n",
    "                print(f'{ecli} NO RESULTS')\n",
    "                return []\n",
    "\n",
    "            if failed:\n",
    "                print(f'{ecli} NOW SUCCEEDED')\n",
    "\n",
    "            return [appno for appno in data['results'][0]['columns'][column].split(';')]"
   ],
   "metadata": {
    "collapsed": false,
    "pycharm": {
     "name": "#%%\n"
    }
   }
  },
  {
   "cell_type": "markdown",
   "source": [],
   "metadata": {
    "collapsed": false,
    "pycharm": {
     "name": "#%% md\n"
    }
   }
  },
  {
   "cell_type": "markdown",
   "source": [
    "### Task: Compare articles"
   ],
   "metadata": {
    "collapsed": false,
    "pycharm": {
     "name": "#%% md\n"
    }
   }
  },
  {
   "cell_type": "code",
   "execution_count": null,
   "outputs": [],
   "source": [
    "# FYI: unique articles from all Hudoc cases\n",
    "unique_articles = set()\n",
    "ecli_map['article'].apply(lambda articles: [unique_articles.add(art) for art in articles if len(art)])\n",
    "print(unique_articles)"
   ],
   "metadata": {
    "collapsed": false,
    "pycharm": {
     "name": "#%%\n"
    }
   }
  },
  {
   "cell_type": "code",
   "execution_count": 66,
   "outputs": [
    {
     "data": {
      "text/plain": "                                        itemid  \\\nECLI:CE:ECHR:2001:0118JUD002487694   001-59156   \nECLI:CE:ECHR:2001:0118JUD002528994   001-59157   \nECLI:CE:ECHR:2001:0118JUD002515494   001-59158   \nECLI:CE:ECHR:2001:0118JUD002488294   001-59155   \nECLI:CE:ECHR:1996:0916JUD002189393   001-58062   \n...                                        ...   \nECLI:CE:ECHR:2007:0215JUD004385498   001-79488   \nECLI:CE:ECHR:1998:0424JUD002318494   001-58162   \nECLI:CE:ECHR:2012:0216JUD000908904  001-109119   \nECLI:CE:ECHR:2016:1020JUD003400007  001-167557   \nECLI:CE:ECHR:2017:1214JUD001995707  001-179427   \n\n                                                            article_hudoc  \\\nECLI:CE:ECHR:2001:0118JUD002487694                [14, 36, 8, p1-1, p1-2]   \nECLI:CE:ECHR:2001:0118JUD002528994                [14, 36, 8, p1-1, p1-2]   \nECLI:CE:ECHR:2001:0118JUD002515494             [14, 36, 6, 8, p1-1, p1-2]   \nECLI:CE:ECHR:2001:0118JUD002488294                            [14, 36, 8]   \nECLI:CE:ECHR:1996:0916JUD002189393        [14, 18, 35, 46, 5, 6, 8, p1-1]   \n...                                                                   ...   \nECLI:CE:ECHR:2007:0215JUD004385498                   [13, 14, 3, 8, p1-1]   \nECLI:CE:ECHR:1998:0424JUD002318494  [13, 14, 18, 2, 3, 41, 5, 6, 8, p1-1]   \nECLI:CE:ECHR:2012:0216JUD000908904                           [6, 8, p1-1]   \nECLI:CE:ECHR:2016:1020JUD003400007                                [13, 8]   \nECLI:CE:ECHR:2017:1214JUD001995707                                    [8]   \n\n                                              article_annotations  \\\nECLI:CE:ECHR:2001:0118JUD002487694            [14, 8, p1-1, p1-2]   \nECLI:CE:ECHR:2001:0118JUD002528994            [14, 8, p1-1, p1-2]   \nECLI:CE:ECHR:2001:0118JUD002515494         [14, 6, 8, p1-1, p1-2]   \nECLI:CE:ECHR:2001:0118JUD002488294                        [14, 8]   \nECLI:CE:ECHR:1996:0916JUD002189393         [14, 3, 5, 6, 8, p1-1]   \n...                                                           ...   \nECLI:CE:ECHR:2007:0215JUD004385498           [13, 14, 3, 8, p1-1]   \nECLI:CE:ECHR:1998:0424JUD002318494  [13, 14, 2, 3, 5, 6, 8, p1-1]   \nECLI:CE:ECHR:2012:0216JUD000908904               [13, 6, 8, p1-1]   \nECLI:CE:ECHR:2016:1020JUD003400007                        [13, 8]   \nECLI:CE:ECHR:2017:1214JUD001995707                            [8]   \n\n                                                                     case_annotations  \\\nECLI:CE:ECHR:2001:0118JUD002487694  [ECLI:CE:ECHR:1979:0613JUD000683374, ECLI:CE:E...   \nECLI:CE:ECHR:2001:0118JUD002528994  [ECLI:CE:ECHR:1979:0613JUD000683374, ECLI:CE:E...   \nECLI:CE:ECHR:2001:0118JUD002515494  [ECLI:CE:ECHR:1979:0613JUD000683374, ECLI:CE:E...   \nECLI:CE:ECHR:2001:0118JUD002488294  [ECLI:CE:ECHR:1979:0613JUD000683374, ECLI:CE:E...   \nECLI:CE:ECHR:1996:0916JUD002189393  [ECLI:CE:ECHR:1961:0111DEC000078860, ECLI:CE:E...   \n...                                                                               ...   \nECLI:CE:ECHR:2007:0215JUD004385498  [ECLI:CE:ECHR:1978:0118JUD000531071, ECLI:CE:E...   \nECLI:CE:ECHR:1998:0424JUD002318494  [ECLI:CE:ECHR:1989:0707JUD001403888, ECLI:CE:E...   \nECLI:CE:ECHR:2012:0216JUD000908904  [ECLI:CE:ECHR:1998:0224JUD002143993, ECLI:CE:E...   \nECLI:CE:ECHR:2016:1020JUD003400007  [ECLI:CE:ECHR:1988:0427JUD000965982, ECLI:CE:E...   \nECLI:CE:ECHR:2017:1214JUD001995707  [ECLI:CE:ECHR:2005:0607JUD007118601, ECLI:CE:E...   \n\n                                                               case_annotations_appno  \\\nECLI:CE:ECHR:2001:0118JUD002487694  [6833/74, 7525/76, 7525/76, 9063/80, 10843/84,...   \nECLI:CE:ECHR:2001:0118JUD002528994  [6833/74, 7525/76, 9063/80, 9063/80, 10843/84,...   \nECLI:CE:ECHR:2001:0118JUD002515494  [6833/74, 7525/76, 7525/76, 9063/80, 10843/84,...   \nECLI:CE:ECHR:2001:0118JUD002488294  [6833/74, 7525/76, 9063/80, 10843/84, 16969/90...   \nECLI:CE:ECHR:1996:0916JUD002189393  [788/60, 5577/72, 5583/72, 5493/72, 5310/71, 7...   \n...                                                                               ...   \nECLI:CE:ECHR:2007:0215JUD004385498  [5310/71, 9659/82, 9658/82, 13416/87, 21893/93...   \nECLI:CE:ECHR:1998:0424JUD002318494  [14038/88, 21893/93, 21987/93, 23878/94, 23879...   \nECLI:CE:ECHR:2012:0216JUD000908904  [21439/93, 48757/99, 75139/01, 8415/02, 19443/...   \nECLI:CE:ECHR:2016:1020JUD003400007  [9659/82, 9658/82, 31365/96, 50963/99, 75139/0...   \nECLI:CE:ECHR:2017:1214JUD001995707  [71186/01, 19009/04, 39964/02, 30856/03, 25446...   \n\n                                                   appno  \\\nECLI:CE:ECHR:2001:0118JUD002487694            [24876/94]   \nECLI:CE:ECHR:2001:0118JUD002528994            [25289/94]   \nECLI:CE:ECHR:2001:0118JUD002515494            [25154/94]   \nECLI:CE:ECHR:2001:0118JUD002488294            [24882/94]   \nECLI:CE:ECHR:1996:0916JUD002189393            [21893/93]   \n...                                                  ...   \nECLI:CE:ECHR:2007:0215JUD004385498            [43854/98]   \nECLI:CE:ECHR:1998:0424JUD002318494  [23184/94, 23185/94]   \nECLI:CE:ECHR:2012:0216JUD000908904             [9089/04]   \nECLI:CE:ECHR:2016:1020JUD003400007            [34000/07]   \nECLI:CE:ECHR:2017:1214JUD001995707            [19957/07]   \n\n                                                              hudoc_annotations_appno  \nECLI:CE:ECHR:2001:0118JUD002487694  [20348/92, 10843/84, 7525/76, 9063/80, 16969/9...  \nECLI:CE:ECHR:2001:0118JUD002528994  [20348/92, 10843/84, 7525/76, 9063/80, 16969/9...  \nECLI:CE:ECHR:2001:0118JUD002515494  [19178/91, 20348/92, 10843/84, 7525/76, 9063/8...  \nECLI:CE:ECHR:2001:0118JUD002488294  [20348/92, 10843/84, 7525/76, 9063/80, 16969/9...  \nECLI:CE:ECHR:1996:0916JUD002189393  [5493/72, 5310/71, 7654/76, 9697/82, 11889/85,...  \n...                                                                               ...  \nECLI:CE:ECHR:2007:0215JUD004385498                                                 []  \nECLI:CE:ECHR:1998:0424JUD002318494  [14038/88, 21893/93, 21987/93, 23878/94, 23186...  \nECLI:CE:ECHR:2012:0216JUD000908904                                                 []  \nECLI:CE:ECHR:2016:1020JUD003400007                                                 []  \nECLI:CE:ECHR:2017:1214JUD001995707                                                 []  \n\n[86 rows x 7 columns]",
      "text/html": "<div>\n<style scoped>\n    .dataframe tbody tr th:only-of-type {\n        vertical-align: middle;\n    }\n\n    .dataframe tbody tr th {\n        vertical-align: top;\n    }\n\n    .dataframe thead th {\n        text-align: right;\n    }\n</style>\n<table border=\"1\" class=\"dataframe\">\n  <thead>\n    <tr style=\"text-align: right;\">\n      <th></th>\n      <th>itemid</th>\n      <th>article_hudoc</th>\n      <th>article_annotations</th>\n      <th>case_annotations</th>\n      <th>case_annotations_appno</th>\n      <th>appno</th>\n      <th>hudoc_annotations_appno</th>\n    </tr>\n  </thead>\n  <tbody>\n    <tr>\n      <th>ECLI:CE:ECHR:2001:0118JUD002487694</th>\n      <td>001-59156</td>\n      <td>[14, 36, 8, p1-1, p1-2]</td>\n      <td>[14, 8, p1-1, p1-2]</td>\n      <td>[ECLI:CE:ECHR:1979:0613JUD000683374, ECLI:CE:E...</td>\n      <td>[6833/74, 7525/76, 7525/76, 9063/80, 10843/84,...</td>\n      <td>[24876/94]</td>\n      <td>[20348/92, 10843/84, 7525/76, 9063/80, 16969/9...</td>\n    </tr>\n    <tr>\n      <th>ECLI:CE:ECHR:2001:0118JUD002528994</th>\n      <td>001-59157</td>\n      <td>[14, 36, 8, p1-1, p1-2]</td>\n      <td>[14, 8, p1-1, p1-2]</td>\n      <td>[ECLI:CE:ECHR:1979:0613JUD000683374, ECLI:CE:E...</td>\n      <td>[6833/74, 7525/76, 9063/80, 9063/80, 10843/84,...</td>\n      <td>[25289/94]</td>\n      <td>[20348/92, 10843/84, 7525/76, 9063/80, 16969/9...</td>\n    </tr>\n    <tr>\n      <th>ECLI:CE:ECHR:2001:0118JUD002515494</th>\n      <td>001-59158</td>\n      <td>[14, 36, 6, 8, p1-1, p1-2]</td>\n      <td>[14, 6, 8, p1-1, p1-2]</td>\n      <td>[ECLI:CE:ECHR:1979:0613JUD000683374, ECLI:CE:E...</td>\n      <td>[6833/74, 7525/76, 7525/76, 9063/80, 10843/84,...</td>\n      <td>[25154/94]</td>\n      <td>[19178/91, 20348/92, 10843/84, 7525/76, 9063/8...</td>\n    </tr>\n    <tr>\n      <th>ECLI:CE:ECHR:2001:0118JUD002488294</th>\n      <td>001-59155</td>\n      <td>[14, 36, 8]</td>\n      <td>[14, 8]</td>\n      <td>[ECLI:CE:ECHR:1979:0613JUD000683374, ECLI:CE:E...</td>\n      <td>[6833/74, 7525/76, 9063/80, 10843/84, 16969/90...</td>\n      <td>[24882/94]</td>\n      <td>[20348/92, 10843/84, 7525/76, 9063/80, 16969/9...</td>\n    </tr>\n    <tr>\n      <th>ECLI:CE:ECHR:1996:0916JUD002189393</th>\n      <td>001-58062</td>\n      <td>[14, 18, 35, 46, 5, 6, 8, p1-1]</td>\n      <td>[14, 3, 5, 6, 8, p1-1]</td>\n      <td>[ECLI:CE:ECHR:1961:0111DEC000078860, ECLI:CE:E...</td>\n      <td>[788/60, 5577/72, 5583/72, 5493/72, 5310/71, 7...</td>\n      <td>[21893/93]</td>\n      <td>[5493/72, 5310/71, 7654/76, 9697/82, 11889/85,...</td>\n    </tr>\n    <tr>\n      <th>...</th>\n      <td>...</td>\n      <td>...</td>\n      <td>...</td>\n      <td>...</td>\n      <td>...</td>\n      <td>...</td>\n      <td>...</td>\n    </tr>\n    <tr>\n      <th>ECLI:CE:ECHR:2007:0215JUD004385498</th>\n      <td>001-79488</td>\n      <td>[13, 14, 3, 8, p1-1]</td>\n      <td>[13, 14, 3, 8, p1-1]</td>\n      <td>[ECLI:CE:ECHR:1978:0118JUD000531071, ECLI:CE:E...</td>\n      <td>[5310/71, 9659/82, 9658/82, 13416/87, 21893/93...</td>\n      <td>[43854/98]</td>\n      <td>[]</td>\n    </tr>\n    <tr>\n      <th>ECLI:CE:ECHR:1998:0424JUD002318494</th>\n      <td>001-58162</td>\n      <td>[13, 14, 18, 2, 3, 41, 5, 6, 8, p1-1]</td>\n      <td>[13, 14, 2, 3, 5, 6, 8, p1-1]</td>\n      <td>[ECLI:CE:ECHR:1989:0707JUD001403888, ECLI:CE:E...</td>\n      <td>[14038/88, 21893/93, 21987/93, 23878/94, 23879...</td>\n      <td>[23184/94, 23185/94]</td>\n      <td>[14038/88, 21893/93, 21987/93, 23878/94, 23186...</td>\n    </tr>\n    <tr>\n      <th>ECLI:CE:ECHR:2012:0216JUD000908904</th>\n      <td>001-109119</td>\n      <td>[6, 8, p1-1]</td>\n      <td>[13, 6, 8, p1-1]</td>\n      <td>[ECLI:CE:ECHR:1998:0224JUD002143993, ECLI:CE:E...</td>\n      <td>[21439/93, 48757/99, 75139/01, 8415/02, 19443/...</td>\n      <td>[9089/04]</td>\n      <td>[]</td>\n    </tr>\n    <tr>\n      <th>ECLI:CE:ECHR:2016:1020JUD003400007</th>\n      <td>001-167557</td>\n      <td>[13, 8]</td>\n      <td>[13, 8]</td>\n      <td>[ECLI:CE:ECHR:1988:0427JUD000965982, ECLI:CE:E...</td>\n      <td>[9659/82, 9658/82, 31365/96, 50963/99, 75139/0...</td>\n      <td>[34000/07]</td>\n      <td>[]</td>\n    </tr>\n    <tr>\n      <th>ECLI:CE:ECHR:2017:1214JUD001995707</th>\n      <td>001-179427</td>\n      <td>[8]</td>\n      <td>[8]</td>\n      <td>[ECLI:CE:ECHR:2005:0607JUD007118601, ECLI:CE:E...</td>\n      <td>[71186/01, 19009/04, 39964/02, 30856/03, 25446...</td>\n      <td>[19957/07]</td>\n      <td>[]</td>\n    </tr>\n  </tbody>\n</table>\n<p>86 rows × 7 columns</p>\n</div>"
     },
     "execution_count": 66,
     "metadata": {},
     "output_type": "execute_result"
    }
   ],
   "source": [
    "# Populate our annotated cases with the cited articles from Hudoc metadata\n",
    "annotated_cases['article_hudoc'] = annotated_cases.index.to_series().apply(lambda ecli: sorted(ecli_map.loc[ecli]['article']))\n",
    "\n",
    "# Populate our annotated cases with the cited articles from our own annotations\n",
    "annotated_article_references = pd.read_csv('ECLI_article_references.csv', index_col='ECLI number')\n",
    "\n",
    "def articles_annotations(ecli):\n",
    "    \"\"\" Get cited articles from our annotations \"\"\"\n",
    "    refs = annotated_article_references.loc[ecli]\n",
    "    return sorted([col.lower() for col in annotated_article_references.columns if refs[col]])\n",
    "\n",
    "annotated_cases['article_annotations'] = annotated_cases.index.to_series().apply(articles_annotations)"
   ],
   "metadata": {
    "collapsed": false,
    "pycharm": {
     "name": "#%%\n"
    }
   }
  },
  {
   "cell_type": "code",
   "execution_count": 79,
   "outputs": [
    {
     "name": "stdout",
     "output_type": "stream",
     "text": [
      ">> Article Statistics\n",
      "Average hudoc: 95%\n",
      "Average annotations: 78%\n"
     ]
    },
    {
     "data": {
      "text/plain": "                                        itemid  \\\nECLI:CE:ECHR:2001:0118JUD002487694   001-59156   \nECLI:CE:ECHR:2001:0118JUD002528994   001-59157   \nECLI:CE:ECHR:2001:0118JUD002515494   001-59158   \nECLI:CE:ECHR:2001:0118JUD002488294   001-59155   \nECLI:CE:ECHR:1996:0916JUD002189393   001-58062   \n...                                        ...   \nECLI:CE:ECHR:2007:0215JUD004385498   001-79488   \nECLI:CE:ECHR:1998:0424JUD002318494   001-58162   \nECLI:CE:ECHR:2012:0216JUD000908904  001-109119   \nECLI:CE:ECHR:2016:1020JUD003400007  001-167557   \nECLI:CE:ECHR:2017:1214JUD001995707  001-179427   \n\n                                                            article_hudoc  \\\nECLI:CE:ECHR:2001:0118JUD002487694                [14, 36, 8, p1-1, p1-2]   \nECLI:CE:ECHR:2001:0118JUD002528994                [14, 36, 8, p1-1, p1-2]   \nECLI:CE:ECHR:2001:0118JUD002515494             [14, 36, 6, 8, p1-1, p1-2]   \nECLI:CE:ECHR:2001:0118JUD002488294                            [14, 36, 8]   \nECLI:CE:ECHR:1996:0916JUD002189393        [14, 18, 35, 46, 5, 6, 8, p1-1]   \n...                                                                   ...   \nECLI:CE:ECHR:2007:0215JUD004385498                   [13, 14, 3, 8, p1-1]   \nECLI:CE:ECHR:1998:0424JUD002318494  [13, 14, 18, 2, 3, 41, 5, 6, 8, p1-1]   \nECLI:CE:ECHR:2012:0216JUD000908904                           [6, 8, p1-1]   \nECLI:CE:ECHR:2016:1020JUD003400007                                [13, 8]   \nECLI:CE:ECHR:2017:1214JUD001995707                                    [8]   \n\n                                              article_annotations  \\\nECLI:CE:ECHR:2001:0118JUD002487694            [14, 8, p1-1, p1-2]   \nECLI:CE:ECHR:2001:0118JUD002528994            [14, 8, p1-1, p1-2]   \nECLI:CE:ECHR:2001:0118JUD002515494         [14, 6, 8, p1-1, p1-2]   \nECLI:CE:ECHR:2001:0118JUD002488294                        [14, 8]   \nECLI:CE:ECHR:1996:0916JUD002189393         [14, 3, 5, 6, 8, p1-1]   \n...                                                           ...   \nECLI:CE:ECHR:2007:0215JUD004385498           [13, 14, 3, 8, p1-1]   \nECLI:CE:ECHR:1998:0424JUD002318494  [13, 14, 2, 3, 5, 6, 8, p1-1]   \nECLI:CE:ECHR:2012:0216JUD000908904               [13, 6, 8, p1-1]   \nECLI:CE:ECHR:2016:1020JUD003400007                        [13, 8]   \nECLI:CE:ECHR:2017:1214JUD001995707                            [8]   \n\n                                                                     case_annotations  \\\nECLI:CE:ECHR:2001:0118JUD002487694  [ECLI:CE:ECHR:1979:0613JUD000683374, ECLI:CE:E...   \nECLI:CE:ECHR:2001:0118JUD002528994  [ECLI:CE:ECHR:1979:0613JUD000683374, ECLI:CE:E...   \nECLI:CE:ECHR:2001:0118JUD002515494  [ECLI:CE:ECHR:1979:0613JUD000683374, ECLI:CE:E...   \nECLI:CE:ECHR:2001:0118JUD002488294  [ECLI:CE:ECHR:1979:0613JUD000683374, ECLI:CE:E...   \nECLI:CE:ECHR:1996:0916JUD002189393  [ECLI:CE:ECHR:1961:0111DEC000078860, ECLI:CE:E...   \n...                                                                               ...   \nECLI:CE:ECHR:2007:0215JUD004385498  [ECLI:CE:ECHR:1978:0118JUD000531071, ECLI:CE:E...   \nECLI:CE:ECHR:1998:0424JUD002318494  [ECLI:CE:ECHR:1989:0707JUD001403888, ECLI:CE:E...   \nECLI:CE:ECHR:2012:0216JUD000908904  [ECLI:CE:ECHR:1998:0224JUD002143993, ECLI:CE:E...   \nECLI:CE:ECHR:2016:1020JUD003400007  [ECLI:CE:ECHR:1988:0427JUD000965982, ECLI:CE:E...   \nECLI:CE:ECHR:2017:1214JUD001995707  [ECLI:CE:ECHR:2005:0607JUD007118601, ECLI:CE:E...   \n\n                                                               case_annotations_appno  \\\nECLI:CE:ECHR:2001:0118JUD002487694  [6833/74, 7525/76, 7525/76, 9063/80, 10843/84,...   \nECLI:CE:ECHR:2001:0118JUD002528994  [6833/74, 7525/76, 9063/80, 9063/80, 10843/84,...   \nECLI:CE:ECHR:2001:0118JUD002515494  [6833/74, 7525/76, 7525/76, 9063/80, 10843/84,...   \nECLI:CE:ECHR:2001:0118JUD002488294  [6833/74, 7525/76, 9063/80, 10843/84, 16969/90...   \nECLI:CE:ECHR:1996:0916JUD002189393  [788/60, 5577/72, 5583/72, 5493/72, 5310/71, 7...   \n...                                                                               ...   \nECLI:CE:ECHR:2007:0215JUD004385498  [5310/71, 9659/82, 9658/82, 13416/87, 21893/93...   \nECLI:CE:ECHR:1998:0424JUD002318494  [14038/88, 21893/93, 21987/93, 23878/94, 23879...   \nECLI:CE:ECHR:2012:0216JUD000908904  [21439/93, 48757/99, 75139/01, 8415/02, 19443/...   \nECLI:CE:ECHR:2016:1020JUD003400007  [9659/82, 9658/82, 31365/96, 50963/99, 75139/0...   \nECLI:CE:ECHR:2017:1214JUD001995707  [71186/01, 19009/04, 39964/02, 30856/03, 25446...   \n\n                                                   appno  \\\nECLI:CE:ECHR:2001:0118JUD002487694            [24876/94]   \nECLI:CE:ECHR:2001:0118JUD002528994            [25289/94]   \nECLI:CE:ECHR:2001:0118JUD002515494            [25154/94]   \nECLI:CE:ECHR:2001:0118JUD002488294            [24882/94]   \nECLI:CE:ECHR:1996:0916JUD002189393            [21893/93]   \n...                                                  ...   \nECLI:CE:ECHR:2007:0215JUD004385498            [43854/98]   \nECLI:CE:ECHR:1998:0424JUD002318494  [23184/94, 23185/94]   \nECLI:CE:ECHR:2012:0216JUD000908904             [9089/04]   \nECLI:CE:ECHR:2016:1020JUD003400007            [34000/07]   \nECLI:CE:ECHR:2017:1214JUD001995707            [19957/07]   \n\n                                                                     case_hudoc_appno  \\\nECLI:CE:ECHR:2001:0118JUD002487694  [20348/92, 10843/84, 7525/76, 9063/80, 16969/9...   \nECLI:CE:ECHR:2001:0118JUD002528994  [20348/92, 10843/84, 7525/76, 9063/80, 16969/9...   \nECLI:CE:ECHR:2001:0118JUD002515494  [19178/91, 20348/92, 10843/84, 7525/76, 9063/8...   \nECLI:CE:ECHR:2001:0118JUD002488294  [20348/92, 10843/84, 7525/76, 9063/80, 16969/9...   \nECLI:CE:ECHR:1996:0916JUD002189393  [5493/72, 5310/71, 7654/76, 9697/82, 11889/85,...   \n...                                                                               ...   \nECLI:CE:ECHR:2007:0215JUD004385498                                                 []   \nECLI:CE:ECHR:1998:0424JUD002318494  [14038/88, 21893/93, 21987/93, 23878/94, 23186...   \nECLI:CE:ECHR:2012:0216JUD000908904                                                 []   \nECLI:CE:ECHR:2016:1020JUD003400007                                                 []   \nECLI:CE:ECHR:2017:1214JUD001995707                                                 []   \n\n                                    % hudoc  % annotations  \nECLI:CE:ECHR:2001:0118JUD002487694      100             80  \nECLI:CE:ECHR:2001:0118JUD002528994      100             80  \nECLI:CE:ECHR:2001:0118JUD002515494      100             83  \nECLI:CE:ECHR:2001:0118JUD002488294      100             67  \nECLI:CE:ECHR:1996:0916JUD002189393       89             67  \n...                                     ...            ...  \nECLI:CE:ECHR:2007:0215JUD004385498      100            100  \nECLI:CE:ECHR:1998:0424JUD002318494      100             80  \nECLI:CE:ECHR:2012:0216JUD000908904       75            100  \nECLI:CE:ECHR:2016:1020JUD003400007      100            100  \nECLI:CE:ECHR:2017:1214JUD001995707      100            100  \n\n[86 rows x 9 columns]",
      "text/html": "<div>\n<style scoped>\n    .dataframe tbody tr th:only-of-type {\n        vertical-align: middle;\n    }\n\n    .dataframe tbody tr th {\n        vertical-align: top;\n    }\n\n    .dataframe thead th {\n        text-align: right;\n    }\n</style>\n<table border=\"1\" class=\"dataframe\">\n  <thead>\n    <tr style=\"text-align: right;\">\n      <th></th>\n      <th>itemid</th>\n      <th>article_hudoc</th>\n      <th>article_annotations</th>\n      <th>case_annotations</th>\n      <th>case_annotations_appno</th>\n      <th>appno</th>\n      <th>case_hudoc_appno</th>\n      <th>% hudoc</th>\n      <th>% annotations</th>\n    </tr>\n  </thead>\n  <tbody>\n    <tr>\n      <th>ECLI:CE:ECHR:2001:0118JUD002487694</th>\n      <td>001-59156</td>\n      <td>[14, 36, 8, p1-1, p1-2]</td>\n      <td>[14, 8, p1-1, p1-2]</td>\n      <td>[ECLI:CE:ECHR:1979:0613JUD000683374, ECLI:CE:E...</td>\n      <td>[6833/74, 7525/76, 7525/76, 9063/80, 10843/84,...</td>\n      <td>[24876/94]</td>\n      <td>[20348/92, 10843/84, 7525/76, 9063/80, 16969/9...</td>\n      <td>100</td>\n      <td>80</td>\n    </tr>\n    <tr>\n      <th>ECLI:CE:ECHR:2001:0118JUD002528994</th>\n      <td>001-59157</td>\n      <td>[14, 36, 8, p1-1, p1-2]</td>\n      <td>[14, 8, p1-1, p1-2]</td>\n      <td>[ECLI:CE:ECHR:1979:0613JUD000683374, ECLI:CE:E...</td>\n      <td>[6833/74, 7525/76, 9063/80, 9063/80, 10843/84,...</td>\n      <td>[25289/94]</td>\n      <td>[20348/92, 10843/84, 7525/76, 9063/80, 16969/9...</td>\n      <td>100</td>\n      <td>80</td>\n    </tr>\n    <tr>\n      <th>ECLI:CE:ECHR:2001:0118JUD002515494</th>\n      <td>001-59158</td>\n      <td>[14, 36, 6, 8, p1-1, p1-2]</td>\n      <td>[14, 6, 8, p1-1, p1-2]</td>\n      <td>[ECLI:CE:ECHR:1979:0613JUD000683374, ECLI:CE:E...</td>\n      <td>[6833/74, 7525/76, 7525/76, 9063/80, 10843/84,...</td>\n      <td>[25154/94]</td>\n      <td>[19178/91, 20348/92, 10843/84, 7525/76, 9063/8...</td>\n      <td>100</td>\n      <td>83</td>\n    </tr>\n    <tr>\n      <th>ECLI:CE:ECHR:2001:0118JUD002488294</th>\n      <td>001-59155</td>\n      <td>[14, 36, 8]</td>\n      <td>[14, 8]</td>\n      <td>[ECLI:CE:ECHR:1979:0613JUD000683374, ECLI:CE:E...</td>\n      <td>[6833/74, 7525/76, 9063/80, 10843/84, 16969/90...</td>\n      <td>[24882/94]</td>\n      <td>[20348/92, 10843/84, 7525/76, 9063/80, 16969/9...</td>\n      <td>100</td>\n      <td>67</td>\n    </tr>\n    <tr>\n      <th>ECLI:CE:ECHR:1996:0916JUD002189393</th>\n      <td>001-58062</td>\n      <td>[14, 18, 35, 46, 5, 6, 8, p1-1]</td>\n      <td>[14, 3, 5, 6, 8, p1-1]</td>\n      <td>[ECLI:CE:ECHR:1961:0111DEC000078860, ECLI:CE:E...</td>\n      <td>[788/60, 5577/72, 5583/72, 5493/72, 5310/71, 7...</td>\n      <td>[21893/93]</td>\n      <td>[5493/72, 5310/71, 7654/76, 9697/82, 11889/85,...</td>\n      <td>89</td>\n      <td>67</td>\n    </tr>\n    <tr>\n      <th>...</th>\n      <td>...</td>\n      <td>...</td>\n      <td>...</td>\n      <td>...</td>\n      <td>...</td>\n      <td>...</td>\n      <td>...</td>\n      <td>...</td>\n      <td>...</td>\n    </tr>\n    <tr>\n      <th>ECLI:CE:ECHR:2007:0215JUD004385498</th>\n      <td>001-79488</td>\n      <td>[13, 14, 3, 8, p1-1]</td>\n      <td>[13, 14, 3, 8, p1-1]</td>\n      <td>[ECLI:CE:ECHR:1978:0118JUD000531071, ECLI:CE:E...</td>\n      <td>[5310/71, 9659/82, 9658/82, 13416/87, 21893/93...</td>\n      <td>[43854/98]</td>\n      <td>[]</td>\n      <td>100</td>\n      <td>100</td>\n    </tr>\n    <tr>\n      <th>ECLI:CE:ECHR:1998:0424JUD002318494</th>\n      <td>001-58162</td>\n      <td>[13, 14, 18, 2, 3, 41, 5, 6, 8, p1-1]</td>\n      <td>[13, 14, 2, 3, 5, 6, 8, p1-1]</td>\n      <td>[ECLI:CE:ECHR:1989:0707JUD001403888, ECLI:CE:E...</td>\n      <td>[14038/88, 21893/93, 21987/93, 23878/94, 23879...</td>\n      <td>[23184/94, 23185/94]</td>\n      <td>[14038/88, 21893/93, 21987/93, 23878/94, 23186...</td>\n      <td>100</td>\n      <td>80</td>\n    </tr>\n    <tr>\n      <th>ECLI:CE:ECHR:2012:0216JUD000908904</th>\n      <td>001-109119</td>\n      <td>[6, 8, p1-1]</td>\n      <td>[13, 6, 8, p1-1]</td>\n      <td>[ECLI:CE:ECHR:1998:0224JUD002143993, ECLI:CE:E...</td>\n      <td>[21439/93, 48757/99, 75139/01, 8415/02, 19443/...</td>\n      <td>[9089/04]</td>\n      <td>[]</td>\n      <td>75</td>\n      <td>100</td>\n    </tr>\n    <tr>\n      <th>ECLI:CE:ECHR:2016:1020JUD003400007</th>\n      <td>001-167557</td>\n      <td>[13, 8]</td>\n      <td>[13, 8]</td>\n      <td>[ECLI:CE:ECHR:1988:0427JUD000965982, ECLI:CE:E...</td>\n      <td>[9659/82, 9658/82, 31365/96, 50963/99, 75139/0...</td>\n      <td>[34000/07]</td>\n      <td>[]</td>\n      <td>100</td>\n      <td>100</td>\n    </tr>\n    <tr>\n      <th>ECLI:CE:ECHR:2017:1214JUD001995707</th>\n      <td>001-179427</td>\n      <td>[8]</td>\n      <td>[8]</td>\n      <td>[ECLI:CE:ECHR:2005:0607JUD007118601, ECLI:CE:E...</td>\n      <td>[71186/01, 19009/04, 39964/02, 30856/03, 25446...</td>\n      <td>[19957/07]</td>\n      <td>[]</td>\n      <td>100</td>\n      <td>100</td>\n    </tr>\n  </tbody>\n</table>\n<p>86 rows × 9 columns</p>\n</div>"
     },
     "execution_count": 79,
     "metadata": {},
     "output_type": "execute_result"
    }
   ],
   "source": [
    "print('>> Article Statistics')\n",
    "statistics(hudoc_col='article_hudoc', annotations_col='article_annotations')"
   ],
   "metadata": {
    "collapsed": false,
    "pycharm": {
     "name": "#%%\n"
    }
   }
  },
  {
   "cell_type": "markdown",
   "source": [],
   "metadata": {
    "collapsed": false,
    "pycharm": {
     "name": "#%% md\n"
    }
   }
  },
  {
   "cell_type": "markdown",
   "source": [
    "### Task: Compare cases\n",
    "\n",
    "NB: gebruik vanuit Hudoc de \"sclappnos\" kolom om geciteerde application numbers te vinden. Quote uit de manual:\n",
    "\n",
    "Use the Strasbourg case-law field to search for judgments and decisions in which a particular Court or former Commission case has\n",
    "been cited. The Court's reasoning is based on the reasoning given in earlier judgments and decisions."
   ],
   "metadata": {
    "collapsed": false,
    "pycharm": {
     "name": "#%% md\n"
    }
   }
  },
  {
   "cell_type": "code",
   "execution_count": null,
   "outputs": [],
   "source": [],
   "metadata": {
    "collapsed": false,
    "pycharm": {
     "name": "#%%\n"
    }
   }
  },
  {
   "cell_type": "code",
   "execution_count": 37,
   "outputs": [
    {
     "data": {
      "text/plain": "                                        itemid  \\\nECLI:CE:ECHR:2001:0118JUD002487694   001-59156   \nECLI:CE:ECHR:2001:0118JUD002528994   001-59157   \nECLI:CE:ECHR:2001:0118JUD002515494   001-59158   \nECLI:CE:ECHR:2001:0118JUD002488294   001-59155   \nECLI:CE:ECHR:1996:0916JUD002189393   001-58062   \n...                                        ...   \nECLI:CE:ECHR:2007:0215JUD004385498   001-79488   \nECLI:CE:ECHR:1998:0424JUD002318494   001-58162   \nECLI:CE:ECHR:2012:0216JUD000908904  001-109119   \nECLI:CE:ECHR:2016:1020JUD003400007  001-167557   \nECLI:CE:ECHR:2017:1214JUD001995707  001-179427   \n\n                                                            article_hudoc  \\\nECLI:CE:ECHR:2001:0118JUD002487694                [14, 36, 8, p1-1, p1-2]   \nECLI:CE:ECHR:2001:0118JUD002528994                [14, 36, 8, p1-1, p1-2]   \nECLI:CE:ECHR:2001:0118JUD002515494             [14, 36, 6, 8, p1-1, p1-2]   \nECLI:CE:ECHR:2001:0118JUD002488294                            [14, 36, 8]   \nECLI:CE:ECHR:1996:0916JUD002189393        [14, 18, 35, 46, 5, 6, 8, p1-1]   \n...                                                                   ...   \nECLI:CE:ECHR:2007:0215JUD004385498                   [13, 14, 3, 8, p1-1]   \nECLI:CE:ECHR:1998:0424JUD002318494  [13, 14, 18, 2, 3, 41, 5, 6, 8, p1-1]   \nECLI:CE:ECHR:2012:0216JUD000908904                           [6, 8, p1-1]   \nECLI:CE:ECHR:2016:1020JUD003400007                                [13, 8]   \nECLI:CE:ECHR:2017:1214JUD001995707                                    [8]   \n\n                                              article_annotations  \\\nECLI:CE:ECHR:2001:0118JUD002487694            [14, 8, p1-1, p1-2]   \nECLI:CE:ECHR:2001:0118JUD002528994            [14, 8, p1-1, p1-2]   \nECLI:CE:ECHR:2001:0118JUD002515494         [14, 6, 8, p1-1, p1-2]   \nECLI:CE:ECHR:2001:0118JUD002488294                        [14, 8]   \nECLI:CE:ECHR:1996:0916JUD002189393         [14, 3, 5, 6, 8, p1-1]   \n...                                                           ...   \nECLI:CE:ECHR:2007:0215JUD004385498           [13, 14, 3, 8, p1-1]   \nECLI:CE:ECHR:1998:0424JUD002318494  [13, 14, 2, 3, 5, 6, 8, p1-1]   \nECLI:CE:ECHR:2012:0216JUD000908904               [13, 6, 8, p1-1]   \nECLI:CE:ECHR:2016:1020JUD003400007                        [13, 8]   \nECLI:CE:ECHR:2017:1214JUD001995707                            [8]   \n\n                                                                     case_annotations  \\\nECLI:CE:ECHR:2001:0118JUD002487694  [ECLI:CE:ECHR:1979:0613JUD000683374, ECLI:CE:E...   \nECLI:CE:ECHR:2001:0118JUD002528994  [ECLI:CE:ECHR:1979:0613JUD000683374, ECLI:CE:E...   \nECLI:CE:ECHR:2001:0118JUD002515494  [ECLI:CE:ECHR:1979:0613JUD000683374, ECLI:CE:E...   \nECLI:CE:ECHR:2001:0118JUD002488294  [ECLI:CE:ECHR:1979:0613JUD000683374, ECLI:CE:E...   \nECLI:CE:ECHR:1996:0916JUD002189393  [ECLI:CE:ECHR:1961:0111DEC000078860, ECLI:CE:E...   \n...                                                                               ...   \nECLI:CE:ECHR:2007:0215JUD004385498  [ECLI:CE:ECHR:1978:0118JUD000531071, ECLI:CE:E...   \nECLI:CE:ECHR:1998:0424JUD002318494  [ECLI:CE:ECHR:1989:0707JUD001403888, ECLI:CE:E...   \nECLI:CE:ECHR:2012:0216JUD000908904  [ECLI:CE:ECHR:1998:0224JUD002143993, ECLI:CE:E...   \nECLI:CE:ECHR:2016:1020JUD003400007  [ECLI:CE:ECHR:1988:0427JUD000965982, ECLI:CE:E...   \nECLI:CE:ECHR:2017:1214JUD001995707  [ECLI:CE:ECHR:2005:0607JUD007118601, ECLI:CE:E...   \n\n                                                               case_annotations_appno  \\\nECLI:CE:ECHR:2001:0118JUD002487694  [6833/74, 7525/76, 7525/76, 9063/80, 10843/84,...   \nECLI:CE:ECHR:2001:0118JUD002528994  [6833/74, 7525/76, 9063/80, 9063/80, 10843/84,...   \nECLI:CE:ECHR:2001:0118JUD002515494  [6833/74, 7525/76, 7525/76, 9063/80, 10843/84,...   \nECLI:CE:ECHR:2001:0118JUD002488294  [6833/74, 7525/76, 9063/80, 10843/84, 16969/90...   \nECLI:CE:ECHR:1996:0916JUD002189393  [788/60, 5577/72, 5583/72, 5493/72, 5310/71, 7...   \n...                                                                               ...   \nECLI:CE:ECHR:2007:0215JUD004385498  [5310/71, 9659/82, 9658/82, 13416/87, 21893/93...   \nECLI:CE:ECHR:1998:0424JUD002318494  [14038/88, 21893/93, 21987/93, 23878/94, 23879...   \nECLI:CE:ECHR:2012:0216JUD000908904  [21439/93, 48757/99, 75139/01, 8415/02, 19443/...   \nECLI:CE:ECHR:2016:1020JUD003400007  [9659/82, 9658/82, 31365/96, 50963/99, 75139/0...   \nECLI:CE:ECHR:2017:1214JUD001995707  [71186/01, 19009/04, 39964/02, 30856/03, 25446...   \n\n                                                   appno  \nECLI:CE:ECHR:2001:0118JUD002487694            [24876/94]  \nECLI:CE:ECHR:2001:0118JUD002528994            [25289/94]  \nECLI:CE:ECHR:2001:0118JUD002515494            [25154/94]  \nECLI:CE:ECHR:2001:0118JUD002488294            [24882/94]  \nECLI:CE:ECHR:1996:0916JUD002189393            [21893/93]  \n...                                                  ...  \nECLI:CE:ECHR:2007:0215JUD004385498            [43854/98]  \nECLI:CE:ECHR:1998:0424JUD002318494  [23184/94, 23185/94]  \nECLI:CE:ECHR:2012:0216JUD000908904             [9089/04]  \nECLI:CE:ECHR:2016:1020JUD003400007            [34000/07]  \nECLI:CE:ECHR:2017:1214JUD001995707            [19957/07]  \n\n[86 rows x 6 columns]",
      "text/html": "<div>\n<style scoped>\n    .dataframe tbody tr th:only-of-type {\n        vertical-align: middle;\n    }\n\n    .dataframe tbody tr th {\n        vertical-align: top;\n    }\n\n    .dataframe thead th {\n        text-align: right;\n    }\n</style>\n<table border=\"1\" class=\"dataframe\">\n  <thead>\n    <tr style=\"text-align: right;\">\n      <th></th>\n      <th>itemid</th>\n      <th>article_hudoc</th>\n      <th>article_annotations</th>\n      <th>case_annotations</th>\n      <th>case_annotations_appno</th>\n      <th>appno</th>\n    </tr>\n  </thead>\n  <tbody>\n    <tr>\n      <th>ECLI:CE:ECHR:2001:0118JUD002487694</th>\n      <td>001-59156</td>\n      <td>[14, 36, 8, p1-1, p1-2]</td>\n      <td>[14, 8, p1-1, p1-2]</td>\n      <td>[ECLI:CE:ECHR:1979:0613JUD000683374, ECLI:CE:E...</td>\n      <td>[6833/74, 7525/76, 7525/76, 9063/80, 10843/84,...</td>\n      <td>[24876/94]</td>\n    </tr>\n    <tr>\n      <th>ECLI:CE:ECHR:2001:0118JUD002528994</th>\n      <td>001-59157</td>\n      <td>[14, 36, 8, p1-1, p1-2]</td>\n      <td>[14, 8, p1-1, p1-2]</td>\n      <td>[ECLI:CE:ECHR:1979:0613JUD000683374, ECLI:CE:E...</td>\n      <td>[6833/74, 7525/76, 9063/80, 9063/80, 10843/84,...</td>\n      <td>[25289/94]</td>\n    </tr>\n    <tr>\n      <th>ECLI:CE:ECHR:2001:0118JUD002515494</th>\n      <td>001-59158</td>\n      <td>[14, 36, 6, 8, p1-1, p1-2]</td>\n      <td>[14, 6, 8, p1-1, p1-2]</td>\n      <td>[ECLI:CE:ECHR:1979:0613JUD000683374, ECLI:CE:E...</td>\n      <td>[6833/74, 7525/76, 7525/76, 9063/80, 10843/84,...</td>\n      <td>[25154/94]</td>\n    </tr>\n    <tr>\n      <th>ECLI:CE:ECHR:2001:0118JUD002488294</th>\n      <td>001-59155</td>\n      <td>[14, 36, 8]</td>\n      <td>[14, 8]</td>\n      <td>[ECLI:CE:ECHR:1979:0613JUD000683374, ECLI:CE:E...</td>\n      <td>[6833/74, 7525/76, 9063/80, 10843/84, 16969/90...</td>\n      <td>[24882/94]</td>\n    </tr>\n    <tr>\n      <th>ECLI:CE:ECHR:1996:0916JUD002189393</th>\n      <td>001-58062</td>\n      <td>[14, 18, 35, 46, 5, 6, 8, p1-1]</td>\n      <td>[14, 3, 5, 6, 8, p1-1]</td>\n      <td>[ECLI:CE:ECHR:1961:0111DEC000078860, ECLI:CE:E...</td>\n      <td>[788/60, 5577/72, 5583/72, 5493/72, 5310/71, 7...</td>\n      <td>[21893/93]</td>\n    </tr>\n    <tr>\n      <th>...</th>\n      <td>...</td>\n      <td>...</td>\n      <td>...</td>\n      <td>...</td>\n      <td>...</td>\n      <td>...</td>\n    </tr>\n    <tr>\n      <th>ECLI:CE:ECHR:2007:0215JUD004385498</th>\n      <td>001-79488</td>\n      <td>[13, 14, 3, 8, p1-1]</td>\n      <td>[13, 14, 3, 8, p1-1]</td>\n      <td>[ECLI:CE:ECHR:1978:0118JUD000531071, ECLI:CE:E...</td>\n      <td>[5310/71, 9659/82, 9658/82, 13416/87, 21893/93...</td>\n      <td>[43854/98]</td>\n    </tr>\n    <tr>\n      <th>ECLI:CE:ECHR:1998:0424JUD002318494</th>\n      <td>001-58162</td>\n      <td>[13, 14, 18, 2, 3, 41, 5, 6, 8, p1-1]</td>\n      <td>[13, 14, 2, 3, 5, 6, 8, p1-1]</td>\n      <td>[ECLI:CE:ECHR:1989:0707JUD001403888, ECLI:CE:E...</td>\n      <td>[14038/88, 21893/93, 21987/93, 23878/94, 23879...</td>\n      <td>[23184/94, 23185/94]</td>\n    </tr>\n    <tr>\n      <th>ECLI:CE:ECHR:2012:0216JUD000908904</th>\n      <td>001-109119</td>\n      <td>[6, 8, p1-1]</td>\n      <td>[13, 6, 8, p1-1]</td>\n      <td>[ECLI:CE:ECHR:1998:0224JUD002143993, ECLI:CE:E...</td>\n      <td>[21439/93, 48757/99, 75139/01, 8415/02, 19443/...</td>\n      <td>[9089/04]</td>\n    </tr>\n    <tr>\n      <th>ECLI:CE:ECHR:2016:1020JUD003400007</th>\n      <td>001-167557</td>\n      <td>[13, 8]</td>\n      <td>[13, 8]</td>\n      <td>[ECLI:CE:ECHR:1988:0427JUD000965982, ECLI:CE:E...</td>\n      <td>[9659/82, 9658/82, 31365/96, 50963/99, 75139/0...</td>\n      <td>[34000/07]</td>\n    </tr>\n    <tr>\n      <th>ECLI:CE:ECHR:2017:1214JUD001995707</th>\n      <td>001-179427</td>\n      <td>[8]</td>\n      <td>[8]</td>\n      <td>[ECLI:CE:ECHR:2005:0607JUD007118601, ECLI:CE:E...</td>\n      <td>[71186/01, 19009/04, 39964/02, 30856/03, 25446...</td>\n      <td>[19957/07]</td>\n    </tr>\n  </tbody>\n</table>\n<p>86 rows × 6 columns</p>\n</div>"
     },
     "execution_count": 37,
     "metadata": {},
     "output_type": "execute_result"
    }
   ],
   "source": [
    "# Populate our annotated cases with the cited cases from our own annotations\n",
    "annotated_case_references = pd.read_csv('ECLI_case_references.csv', index_col='ECLI number')\n",
    "\n",
    "def cases_annotations(ecli):\n",
    "    \"\"\" Get cited articles from our annotations \"\"\"\n",
    "    refs = annotated_case_references.loc[ecli]\n",
    "    return sorted([col for col in annotated_case_references.columns if refs[col]])\n",
    "\n",
    "annotated_cases['case_annotations'] = annotated_cases.index.to_series().apply(cases_annotations)"
   ],
   "metadata": {
    "collapsed": false,
    "pycharm": {
     "name": "#%%\n"
    }
   }
  },
  {
   "cell_type": "code",
   "execution_count": 54,
   "outputs": [
    {
     "name": "stdout",
     "output_type": "stream",
     "text": [
      "ECLI:CE:ECHR:1983:0224JUD000752576 FAILED\n",
      "ECLI:CE:ECHR:1983:0224JUD000752576 NOW SUCCEEDED\n",
      "ECLI:CE:ECHR:2009:1022JUD000357206 FAILED\n",
      "ECLI:CE:ECHR:2009:1022JUD000357206 NOW SUCCEEDED\n",
      "ECLI:CE:ECHR:1986:0507REP000965982 FAILED\n",
      "ECLI:CE:ECHR:1986:0507REP000965982 NOW SUCCEEDED\n",
      "ECLI:CE:ECHR:2000:1019JUD003110796 FAILED\n",
      "ECLI:CE:ECHR:2000:1019JUD003110796 NOW SUCCEEDED\n",
      "ECLI:CE:ECHR:2012:0424JUD005769310 FAILED\n",
      "ECLI:CE:ECHR:2012:0424JUD005769310 NOW SUCCEEDED\n",
      "ECLI:CE:ECHR:1997:0703JUD001361688 FAILED\n",
      "ECLI:CE:ECHR:1997:0703JUD001361688 NOW SUCCEEDED\n",
      "ECLI:CE:ECHR:2009:0115JUD002826106 FAILED\n",
      "ECLI:CE:ECHR:2009:0115JUD002826106 NOW SUCCEEDED\n",
      "ECLI:CE:ECHR:1998:0219JUD001496789 FAILED\n",
      "ECLI:CE:ECHR:1998:0219JUD001496789 FAILED\n",
      "ECLI:CE:ECHR:1998:0219JUD001496789 NOW SUCCEEDED\n",
      "ECLI:CE:ECHR:1998:0424JUD00231849; NO RESULTS\n",
      "ECLI:CE:ECHR:1997:0319JUD001835791 FAILED\n",
      "ECLI:CE:ECHR:1997:0319JUD001835791 NOW SUCCEEDED\n",
      "ECLI:CE:ECHR:2009:1022JUD000357206 FAILED\n",
      "ECLI:CE:ECHR:2009:1022JUD000357206 NOW SUCCEEDED\n",
      "ECLI:CE:ECHR:2016:1117JUD004772407 FAILED\n",
      "ECLI:CE:ECHR:2016:1117JUD004772407 NOW SUCCEEDED\n",
      "ECLI:CE:ECHR:2008:0513JUD001900904 FAILED\n",
      "ECLI:CE:ECHR:2008:0513JUD001900904 NOW SUCCEEDED\n",
      "ECLI:CE:ECHR:2004:0527JUD006674601 FAILED\n",
      "ECLI:CE:ECHR:2004:0527JUD006674601 NOW SUCCEEDED\n",
      "ECLI:CE:ECHR:2004:0527JUD006674601 FAILED\n",
      "ECLI:CE:ECHR:2004:0527JUD006674601 NOW SUCCEEDED\n",
      "ECLI:CE:ECHR:2009:1022JUD000357206 FAILED\n",
      "ECLI:CE:ECHR:2009:1022JUD000357206 NOW SUCCEEDED\n",
      "ECLI:CE:ECHR:1984:1218JUD000715175 FAILED\n",
      "ECLI:CE:ECHR:1995:1204JUD002380594 FAILED\n",
      "ECLI:CE:ECHR:1984:1218JUD000715175 NOW SUCCEEDED\n",
      "ECLI:CE:ECHR:1995:1204JUD002380594 NOW SUCCEEDED\n",
      "ECLI:CE:ECHR:2010:1202JUD003085603 FAILED\n",
      "ECLI:CE:ECHR:2010:1202JUD003085603 NOW SUCCEEDED\n",
      "ECLI:CE:ECHR:2008:0513JUD001900904 FAILED\n",
      "ECLI:CE:ECHR:2008:0513JUD001900904 NOW SUCCEEDED\n",
      "ECLI:CE:ECHR:2009:1022JUD000357206 FAILED\n",
      "ECLI:CE:ECHR:2009:1022JUD000357206 NOW SUCCEEDED\n",
      "ECLI:CE:ECHR:1993:0920JUD001341687 FAILED\n",
      "ECLI:CE:ECHR:1993:0920JUD001341687 NOW SUCCEEDED\n",
      "ECLI:CE:ECHR:2002:0711JUD005681100 FAILED\n",
      "ECLI:CE:ECHR:2002:0711JUD005681100 NOW SUCCEEDED\n",
      "ECLI:CE:ECHR:2004:0217JUD002576094 FAILED\n",
      "ECLI:CE:ECHR:2005:1129JUD003703897 FAILED\n",
      "ECLI:CE:ECHR:2004:0217JUD002576094 NOW SUCCEEDED\n",
      "ECLI:CE:ECHR:2005:1129JUD003703897 NOW SUCCEEDED\n",
      "ECLI:CE:ECHR:1978:0118JUD000531071 FAILED\n",
      "ECLI:CE:ECHR:1978:0118JUD000531071 FAILED\n",
      "ECLI:CE:ECHR:1978:0118JUD000531071 NOW SUCCEEDED\n"
     ]
    }
   ],
   "source": [
    "# For each annotated case, take the cited ECLI numbers and convert them to their corresponding application number(s).\n",
    "# This is needed because we can then compare our annotation's application numbers with those of Hudoc.\n",
    "case_appnumbers = []\n",
    "\n",
    "async with aiohttp.ClientSession() as session:\n",
    "    for _, row in annotated_cases.iterrows():\n",
    "\n",
    "        cited_ecli_numbers = row['case_annotations']\n",
    "        cited_appnumbers = await asyncio.gather(*[asyncio.ensure_future(fetch_on_ecli(session, nr, 'appno')) for nr in cited_ecli_numbers])\n",
    "        case_appnumbers.append(list(itertools.chain(*cited_appnumbers)))\n",
    "\n",
    "annotated_cases['case_annotations_appno'] = case_appnumbers"
   ],
   "metadata": {
    "collapsed": false,
    "pycharm": {
     "name": "#%%\n"
    }
   }
  },
  {
   "cell_type": "code",
   "execution_count": 29,
   "outputs": [
    {
     "name": "stdout",
     "output_type": "stream",
     "text": [
      "ECLI:CE:ECHR:2004:1026JUD003364696 FAILED\n",
      "ECLI:CE:ECHR:2004:1118JUD005825500 FAILED\n",
      "ECLI:CE:ECHR:2016:0913JUD007573713 FAILED\n",
      "ECLI:CE:ECHR:2004:1026JUD003364696 NOW SUCCEEDED\n",
      "ECLI:CE:ECHR:2004:1118JUD005825500 NOW SUCCEEDED\n",
      "ECLI:CE:ECHR:2016:0913JUD007573713 NOW SUCCEEDED\n"
     ]
    }
   ],
   "source": [
    "# Get appno for the index column.\n",
    "# This is needed because we annotated based on ECLI number, but it should be based on application number.\n",
    "\n",
    "async with aiohttp.ClientSession() as session:\n",
    "    annotated_cases['appno'] = await asyncio.gather(*[asyncio.ensure_future(fetch_on_ecli(session, nr, 'appno')) for nr in list(annotated_cases.index)])"
   ],
   "metadata": {
    "collapsed": false,
    "pycharm": {
     "name": "#%%\n"
    }
   }
  },
  {
   "cell_type": "code",
   "execution_count": 85,
   "outputs": [],
   "source": [
    "# ONLY FOR THIS COMPARISON: remove rows with duplicate appplication numbers\n",
    "annotated_cases = annotated_cases[annotated_cases['appno'].apply(len) == 1]"
   ],
   "metadata": {
    "collapsed": false,
    "pycharm": {
     "name": "#%%\n"
    }
   }
  },
  {
   "cell_type": "code",
   "execution_count": 101,
   "outputs": [],
   "source": [
    "# For each annotated case, fetch the cited application numbers from Hudoc.\n",
    "hudoc_appnumbers = []\n",
    "\n",
    "async with aiohttp.ClientSession() as session:\n",
    "    for ecli in list(annotated_cases.index):\n",
    "        # hudoc_appnumbers.append(await fetch_on_ecli(session, ecli, 'sclappnos'))\n",
    "        hudoc_appnumbers.append(await fetch_on_ecli(session, ecli, 'extractedappno'))\n",
    "\n",
    "annotated_cases['case_hudoc_appno'] = hudoc_appnumbers\n",
    "\n",
    "# TODO: remove own appno from cited appnos\n"
   ],
   "metadata": {
    "collapsed": false,
    "pycharm": {
     "name": "#%%\n"
    }
   }
  },
  {
   "cell_type": "code",
   "execution_count": 107,
   "outputs": [
    {
     "name": "stdout",
     "output_type": "stream",
     "text": [
      ">> Cited SCL Cases Statistics\n",
      "Average hudoc: 68%\n",
      "Average annotations: 88%\n"
     ]
    },
    {
     "data": {
      "text/plain": "                                        itemid  \\\nECLI:CE:ECHR:2001:0118JUD002487694   001-59156   \nECLI:CE:ECHR:2001:0118JUD002528994   001-59157   \nECLI:CE:ECHR:2001:0118JUD002515494   001-59158   \nECLI:CE:ECHR:2001:0118JUD002488294   001-59155   \nECLI:CE:ECHR:1996:0916JUD002189393   001-58062   \n...                                        ...   \nECLI:CE:ECHR:2007:0215JUD003785097   001-79486   \nECLI:CE:ECHR:2007:0215JUD004385498   001-79488   \nECLI:CE:ECHR:2012:0216JUD000908904  001-109119   \nECLI:CE:ECHR:2016:1020JUD003400007  001-167557   \nECLI:CE:ECHR:2017:1214JUD001995707  001-179427   \n\n                                                      article_hudoc  \\\nECLI:CE:ECHR:2001:0118JUD002487694          [14, 36, 8, p1-1, p1-2]   \nECLI:CE:ECHR:2001:0118JUD002528994          [14, 36, 8, p1-1, p1-2]   \nECLI:CE:ECHR:2001:0118JUD002515494       [14, 36, 6, 8, p1-1, p1-2]   \nECLI:CE:ECHR:2001:0118JUD002488294                      [14, 36, 8]   \nECLI:CE:ECHR:1996:0916JUD002189393  [14, 18, 35, 46, 5, 6, 8, p1-1]   \n...                                                             ...   \nECLI:CE:ECHR:2007:0215JUD003785097         [13, 14, 18, 3, 8, p1-1]   \nECLI:CE:ECHR:2007:0215JUD004385498             [13, 14, 3, 8, p1-1]   \nECLI:CE:ECHR:2012:0216JUD000908904                     [6, 8, p1-1]   \nECLI:CE:ECHR:2016:1020JUD003400007                          [13, 8]   \nECLI:CE:ECHR:2017:1214JUD001995707                              [8]   \n\n                                        article_annotations  \\\nECLI:CE:ECHR:2001:0118JUD002487694      [14, 8, p1-1, p1-2]   \nECLI:CE:ECHR:2001:0118JUD002528994      [14, 8, p1-1, p1-2]   \nECLI:CE:ECHR:2001:0118JUD002515494   [14, 6, 8, p1-1, p1-2]   \nECLI:CE:ECHR:2001:0118JUD002488294                  [14, 8]   \nECLI:CE:ECHR:1996:0916JUD002189393   [14, 3, 5, 6, 8, p1-1]   \n...                                                     ...   \nECLI:CE:ECHR:2007:0215JUD003785097  [13, 14, 3, 6, 8, p1-1]   \nECLI:CE:ECHR:2007:0215JUD004385498     [13, 14, 3, 8, p1-1]   \nECLI:CE:ECHR:2012:0216JUD000908904         [13, 6, 8, p1-1]   \nECLI:CE:ECHR:2016:1020JUD003400007                  [13, 8]   \nECLI:CE:ECHR:2017:1214JUD001995707                      [8]   \n\n                                                                     case_annotations  \\\nECLI:CE:ECHR:2001:0118JUD002487694  [ECLI:CE:ECHR:1979:0613JUD000683374, ECLI:CE:E...   \nECLI:CE:ECHR:2001:0118JUD002528994  [ECLI:CE:ECHR:1979:0613JUD000683374, ECLI:CE:E...   \nECLI:CE:ECHR:2001:0118JUD002515494  [ECLI:CE:ECHR:1979:0613JUD000683374, ECLI:CE:E...   \nECLI:CE:ECHR:2001:0118JUD002488294  [ECLI:CE:ECHR:1979:0613JUD000683374, ECLI:CE:E...   \nECLI:CE:ECHR:1996:0916JUD002189393  [ECLI:CE:ECHR:1961:0111DEC000078860, ECLI:CE:E...   \n...                                                                               ...   \nECLI:CE:ECHR:2007:0215JUD003785097  [ECLI:CE:ECHR:1978:0118JUD000531071, ECLI:CE:E...   \nECLI:CE:ECHR:2007:0215JUD004385498  [ECLI:CE:ECHR:1978:0118JUD000531071, ECLI:CE:E...   \nECLI:CE:ECHR:2012:0216JUD000908904  [ECLI:CE:ECHR:1998:0224JUD002143993, ECLI:CE:E...   \nECLI:CE:ECHR:2016:1020JUD003400007  [ECLI:CE:ECHR:1988:0427JUD000965982, ECLI:CE:E...   \nECLI:CE:ECHR:2017:1214JUD001995707  [ECLI:CE:ECHR:2005:0607JUD007118601, ECLI:CE:E...   \n\n                                                               case_annotations_appno  \\\nECLI:CE:ECHR:2001:0118JUD002487694  [6833/74, 7525/76, 7525/76, 9063/80, 10843/84,...   \nECLI:CE:ECHR:2001:0118JUD002528994  [6833/74, 7525/76, 9063/80, 9063/80, 10843/84,...   \nECLI:CE:ECHR:2001:0118JUD002515494  [6833/74, 7525/76, 7525/76, 9063/80, 10843/84,...   \nECLI:CE:ECHR:2001:0118JUD002488294  [6833/74, 7525/76, 9063/80, 10843/84, 16969/90...   \nECLI:CE:ECHR:1996:0916JUD002189393  [788/60, 5577/72, 5583/72, 5493/72, 5310/71, 7...   \n...                                                                               ...   \nECLI:CE:ECHR:2007:0215JUD003785097  [5310/71, 9659/82, 9658/82, 13416/87, 10588/83...   \nECLI:CE:ECHR:2007:0215JUD004385498  [5310/71, 9659/82, 9658/82, 13416/87, 21893/93...   \nECLI:CE:ECHR:2012:0216JUD000908904  [21439/93, 48757/99, 75139/01, 8415/02, 19443/...   \nECLI:CE:ECHR:2016:1020JUD003400007  [9659/82, 9658/82, 31365/96, 50963/99, 75139/0...   \nECLI:CE:ECHR:2017:1214JUD001995707  [71186/01, 19009/04, 39964/02, 30856/03, 25446...   \n\n                                         appno  \\\nECLI:CE:ECHR:2001:0118JUD002487694  [24876/94]   \nECLI:CE:ECHR:2001:0118JUD002528994  [25289/94]   \nECLI:CE:ECHR:2001:0118JUD002515494  [25154/94]   \nECLI:CE:ECHR:2001:0118JUD002488294  [24882/94]   \nECLI:CE:ECHR:1996:0916JUD002189393  [21893/93]   \n...                                        ...   \nECLI:CE:ECHR:2007:0215JUD003785097  [37850/97]   \nECLI:CE:ECHR:2007:0215JUD004385498  [43854/98]   \nECLI:CE:ECHR:2012:0216JUD000908904   [9089/04]   \nECLI:CE:ECHR:2016:1020JUD003400007  [34000/07]   \nECLI:CE:ECHR:2017:1214JUD001995707  [19957/07]   \n\n                                                                     case_hudoc_appno  \\\nECLI:CE:ECHR:2001:0118JUD002487694              [24876/94, 28/77, 57/78, 1/94, 18/94]   \nECLI:CE:ECHR:2001:0118JUD002528994              [25289/94, 28/77, 57/78, 1/94, 18/94]   \nECLI:CE:ECHR:2001:0118JUD002515494              [25154/94, 28/77, 57/78, 1/94, 18/94]   \nECLI:CE:ECHR:2001:0118JUD002488294              [24882/94, 28/77, 57/78, 1/94, 18/94]   \nECLI:CE:ECHR:1996:0916JUD002189393     [21893/93, 788/60, 5583/72, 10148/82, 1994/31]   \n...                                                                               ...   \nECLI:CE:ECHR:2007:0215JUD003785097  [37850/97, 26973/95, 23423/94, 8811/02, 8813/0...   \nECLI:CE:ECHR:2007:0215JUD004385498  [43854/98, 26973/95, 23423/94, 8811/02, 8813/0...   \nECLI:CE:ECHR:2012:0216JUD000908904  [9089/04, 8415/02, 40450/04, 75139/01, 48757/9...   \nECLI:CE:ECHR:2016:1020JUD003400007  [34000/07, 18639/03, 31365/96, 50963/99, 21447...   \nECLI:CE:ECHR:2017:1214JUD001995707  [19957/07, 19009/04, 39964/02, 34000/07, 71186...   \n\n                                    % hudoc  % annotations  \nECLI:CE:ECHR:2001:0118JUD002487694       31             69  \nECLI:CE:ECHR:2001:0118JUD002528994       29             71  \nECLI:CE:ECHR:2001:0118JUD002515494       24             76  \nECLI:CE:ECHR:2001:0118JUD002488294       29             71  \nECLI:CE:ECHR:1996:0916JUD002189393       29             86  \n...                                     ...            ...  \nECLI:CE:ECHR:2007:0215JUD003785097       38            100  \nECLI:CE:ECHR:2007:0215JUD004385498       35            100  \nECLI:CE:ECHR:2012:0216JUD000908904       83            100  \nECLI:CE:ECHR:2016:1020JUD003400007       86             93  \nECLI:CE:ECHR:2017:1214JUD001995707      100            100  \n\n[81 rows x 9 columns]",
      "text/html": "<div>\n<style scoped>\n    .dataframe tbody tr th:only-of-type {\n        vertical-align: middle;\n    }\n\n    .dataframe tbody tr th {\n        vertical-align: top;\n    }\n\n    .dataframe thead th {\n        text-align: right;\n    }\n</style>\n<table border=\"1\" class=\"dataframe\">\n  <thead>\n    <tr style=\"text-align: right;\">\n      <th></th>\n      <th>itemid</th>\n      <th>article_hudoc</th>\n      <th>article_annotations</th>\n      <th>case_annotations</th>\n      <th>case_annotations_appno</th>\n      <th>appno</th>\n      <th>case_hudoc_appno</th>\n      <th>% hudoc</th>\n      <th>% annotations</th>\n    </tr>\n  </thead>\n  <tbody>\n    <tr>\n      <th>ECLI:CE:ECHR:2001:0118JUD002487694</th>\n      <td>001-59156</td>\n      <td>[14, 36, 8, p1-1, p1-2]</td>\n      <td>[14, 8, p1-1, p1-2]</td>\n      <td>[ECLI:CE:ECHR:1979:0613JUD000683374, ECLI:CE:E...</td>\n      <td>[6833/74, 7525/76, 7525/76, 9063/80, 10843/84,...</td>\n      <td>[24876/94]</td>\n      <td>[24876/94, 28/77, 57/78, 1/94, 18/94]</td>\n      <td>31</td>\n      <td>69</td>\n    </tr>\n    <tr>\n      <th>ECLI:CE:ECHR:2001:0118JUD002528994</th>\n      <td>001-59157</td>\n      <td>[14, 36, 8, p1-1, p1-2]</td>\n      <td>[14, 8, p1-1, p1-2]</td>\n      <td>[ECLI:CE:ECHR:1979:0613JUD000683374, ECLI:CE:E...</td>\n      <td>[6833/74, 7525/76, 9063/80, 9063/80, 10843/84,...</td>\n      <td>[25289/94]</td>\n      <td>[25289/94, 28/77, 57/78, 1/94, 18/94]</td>\n      <td>29</td>\n      <td>71</td>\n    </tr>\n    <tr>\n      <th>ECLI:CE:ECHR:2001:0118JUD002515494</th>\n      <td>001-59158</td>\n      <td>[14, 36, 6, 8, p1-1, p1-2]</td>\n      <td>[14, 6, 8, p1-1, p1-2]</td>\n      <td>[ECLI:CE:ECHR:1979:0613JUD000683374, ECLI:CE:E...</td>\n      <td>[6833/74, 7525/76, 7525/76, 9063/80, 10843/84,...</td>\n      <td>[25154/94]</td>\n      <td>[25154/94, 28/77, 57/78, 1/94, 18/94]</td>\n      <td>24</td>\n      <td>76</td>\n    </tr>\n    <tr>\n      <th>ECLI:CE:ECHR:2001:0118JUD002488294</th>\n      <td>001-59155</td>\n      <td>[14, 36, 8]</td>\n      <td>[14, 8]</td>\n      <td>[ECLI:CE:ECHR:1979:0613JUD000683374, ECLI:CE:E...</td>\n      <td>[6833/74, 7525/76, 9063/80, 10843/84, 16969/90...</td>\n      <td>[24882/94]</td>\n      <td>[24882/94, 28/77, 57/78, 1/94, 18/94]</td>\n      <td>29</td>\n      <td>71</td>\n    </tr>\n    <tr>\n      <th>ECLI:CE:ECHR:1996:0916JUD002189393</th>\n      <td>001-58062</td>\n      <td>[14, 18, 35, 46, 5, 6, 8, p1-1]</td>\n      <td>[14, 3, 5, 6, 8, p1-1]</td>\n      <td>[ECLI:CE:ECHR:1961:0111DEC000078860, ECLI:CE:E...</td>\n      <td>[788/60, 5577/72, 5583/72, 5493/72, 5310/71, 7...</td>\n      <td>[21893/93]</td>\n      <td>[21893/93, 788/60, 5583/72, 10148/82, 1994/31]</td>\n      <td>29</td>\n      <td>86</td>\n    </tr>\n    <tr>\n      <th>...</th>\n      <td>...</td>\n      <td>...</td>\n      <td>...</td>\n      <td>...</td>\n      <td>...</td>\n      <td>...</td>\n      <td>...</td>\n      <td>...</td>\n      <td>...</td>\n    </tr>\n    <tr>\n      <th>ECLI:CE:ECHR:2007:0215JUD003785097</th>\n      <td>001-79486</td>\n      <td>[13, 14, 18, 3, 8, p1-1]</td>\n      <td>[13, 14, 3, 6, 8, p1-1]</td>\n      <td>[ECLI:CE:ECHR:1978:0118JUD000531071, ECLI:CE:E...</td>\n      <td>[5310/71, 9659/82, 9658/82, 13416/87, 10588/83...</td>\n      <td>[37850/97]</td>\n      <td>[37850/97, 26973/95, 23423/94, 8811/02, 8813/0...</td>\n      <td>38</td>\n      <td>100</td>\n    </tr>\n    <tr>\n      <th>ECLI:CE:ECHR:2007:0215JUD004385498</th>\n      <td>001-79488</td>\n      <td>[13, 14, 3, 8, p1-1]</td>\n      <td>[13, 14, 3, 8, p1-1]</td>\n      <td>[ECLI:CE:ECHR:1978:0118JUD000531071, ECLI:CE:E...</td>\n      <td>[5310/71, 9659/82, 9658/82, 13416/87, 21893/93...</td>\n      <td>[43854/98]</td>\n      <td>[43854/98, 26973/95, 23423/94, 8811/02, 8813/0...</td>\n      <td>35</td>\n      <td>100</td>\n    </tr>\n    <tr>\n      <th>ECLI:CE:ECHR:2012:0216JUD000908904</th>\n      <td>001-109119</td>\n      <td>[6, 8, p1-1]</td>\n      <td>[13, 6, 8, p1-1]</td>\n      <td>[ECLI:CE:ECHR:1998:0224JUD002143993, ECLI:CE:E...</td>\n      <td>[21439/93, 48757/99, 75139/01, 8415/02, 19443/...</td>\n      <td>[9089/04]</td>\n      <td>[9089/04, 8415/02, 40450/04, 75139/01, 48757/9...</td>\n      <td>83</td>\n      <td>100</td>\n    </tr>\n    <tr>\n      <th>ECLI:CE:ECHR:2016:1020JUD003400007</th>\n      <td>001-167557</td>\n      <td>[13, 8]</td>\n      <td>[13, 8]</td>\n      <td>[ECLI:CE:ECHR:1988:0427JUD000965982, ECLI:CE:E...</td>\n      <td>[9659/82, 9658/82, 31365/96, 50963/99, 75139/0...</td>\n      <td>[34000/07]</td>\n      <td>[34000/07, 18639/03, 31365/96, 50963/99, 21447...</td>\n      <td>86</td>\n      <td>93</td>\n    </tr>\n    <tr>\n      <th>ECLI:CE:ECHR:2017:1214JUD001995707</th>\n      <td>001-179427</td>\n      <td>[8]</td>\n      <td>[8]</td>\n      <td>[ECLI:CE:ECHR:2005:0607JUD007118601, ECLI:CE:E...</td>\n      <td>[71186/01, 19009/04, 39964/02, 30856/03, 25446...</td>\n      <td>[19957/07]</td>\n      <td>[19957/07, 19009/04, 39964/02, 34000/07, 71186...</td>\n      <td>100</td>\n      <td>100</td>\n    </tr>\n  </tbody>\n</table>\n<p>81 rows × 9 columns</p>\n</div>"
     },
     "execution_count": 107,
     "metadata": {},
     "output_type": "execute_result"
    }
   ],
   "source": [
    "print('>> Cited SCL Cases Statistics')\n",
    "annotated_cases = statistics(hudoc_col='case_hudoc_appno', annotations_col='case_annotations_appno', rm='appno')\n",
    "annotated_cases"
   ],
   "metadata": {
    "collapsed": false,
    "pycharm": {
     "name": "#%%\n"
    }
   }
  },
  {
   "cell_type": "code",
   "execution_count": 109,
   "outputs": [
    {
     "name": "stdout",
     "output_type": "stream",
     "text": [
      "ECLI:CE:ECHR:1997:1128JUD002318694\n",
      "HUDOC 0%  ['23186/94']\n",
      "ANNOT 100%  ['21893/93', '21987/93', '23178/94', '5310/71']\n",
      "\n",
      "ECLI:CE:ECHR:1999:0218JUD002951595\n",
      "HUDOC 0%  ['29515/95']\n",
      "ANNOT 100%  ['17371/90', '21890/93', '8695/79']\n",
      "\n",
      "ECLI:CE:ECHR:2014:0612JUD001471704\n",
      "HUDOC 6%  ['10200/04', '10373/05', '10911/05', '11706/09', '119/94', '128/08', '12959/05', '13221/08', '13378/05', '13466/03', '13488/07', '13751/02', '14163/04', '14717/04', '14902/04', '15189/10', '16021/02', '16091/90', '16472/04', '17056/06', '172/02', '17209/02', '1772/06', '18176/05', '18768/05', '19009/04', '19217/91', '19724/05', '19993/04', '20082/02', '21151/04', '2139/10', '21819/04', '2334/03', '237/97', '24098/94', '24790/04', '24876/94', '25701/94', '26736/04', '268/96', '27996/06', '28204/95', '28261/06', '28342/95', '28856/95', '29/98', '29515/95', '303/00', '31443/96', '32555/96', '33202/96', '34044/02', '34162/06', '34369/97', '34503/97', '34836/06', '35014/97', '35332/05', '3572/06', '36500/05', '36548/97', '37575/04', '37586/06', '37639/03', '37655/03', '3843/02', '41302/02', '41307/02', '41696/07', '41917/98', '42184/05', '42670/04', '43278/98', '43389/02', '43447/98', '44277/98', '44302/02', '44912/98', '46113/99', '46129/99', '46720/99', '46934/99', '47860/06', '48321/99', '48485/99', '48775/09', '48833/07', '49429/99', '50835/00', '54264/00', '54388/09', '54797/00', '57325/00', '59532/00', '62540/00', '6518/04', '65731/01', '65900/01', '66746/01', '68726/10', '7097/10', '7205/02', '72203/01', '72552/01', '75255/01', '7975/06', '8367/08', '933/08', '9872/09']\n",
      "ANNOT 97%  ['10011/11', '10072/11', '10094/11', '10112/11', '10117/11', '10203/13', '10273/11', '10283/13', '10360/11', '10373/05', '10442/13', '10445/11', '10522/83', '1059/13', '10608/12', '10623/12', '10635/11', '10747/12', '10937/12', '10942/12', '1097/11', '11004/12', '11011/84', '11070/84', '11187/11', '11301/12', '11307/12', '11371/12', '11383/12', '1141/13', '11543/13', '11584/13', '11588/13', '11705/11', '11769/13', '11848/11', '11880/11', '11956/12', '1199/11', '12004/11', '12008/11', '1209/13', '12106/12', '12137/12', '12188/12', '12208/13', '12236/12', '12238/12', '12243/12', '12248/11', '1228/11', '1230/12', '12326/12', '12333/13', '12383/11', '12593/13', '12606/13', '12781/13', '12799/13', '12845/11', '12852/11', '12868/87', '12895/13', '13006/12', '13012/11', '13016/11', '13018/11', '13034/11', '13092/87', '13143/13', '13149/13', '13184/12', '13221/08', '13378/05', '13438/12', '13489/13', '13565/13', '13589/11', '1359/13', '13604/13', '13620/13', '13622/11', '13631/13', '13745/11', '13758/11', '13866/12', '13884/13', '13906/11', '13940/11', '13984/88', '13988/11', '13991/11', '14004/12', '14026/12', '14029/11', '14042/11', '1418/13', '14305/12', '14483/11', '14691/13', '14694/12', '14708/11', '14718/11', '14746/13', '14902/04', '14944/12', '15119/12', '15145/12', '15189/10', '15204/12', '15214/13', '15218/13', '15258/12', '15346/89', '15379/89', '15390/12', '1546/13', '15817/12', '15855/11', '1588/12', '15885/13', '15920/13', '16091/90', '16120/13', '16133/12', '1631/12', '16435/13', '16461/13', '16517/13', '16520/13', '16563/12', '16672/11', '16696/11', '16768/11', '16937/12', '16970/10', '17042/13', '17044/13', '17053/12', '17056/06', '17086/12', '17101/90', '17185/10', '17209/02', '17222/12', '17383/13', '17562/13', '1761/11', '17611/11', '17615/11', '17655/13', '1768/12', '17722/11', '1777/13', '17780/13', '1781/13', '17819/13', '17869/13', '1787/13', '17879/13', '17943/13', '17956/13', '17958/13', '17975/13', '18059/11', '18215/10', '1824/12', '18240/13', '18249/13', '18266/11', '18335/12', '18441/13', '18451/11', '18462/12', '18727/11', '18743/11', '18750/11', '18801/11', '18827/11', '18848/10', '18871/11', '18885/11', '18921/11', '18955/11', '19009/04', '19152/10', '19152/12', '19187/11', '1924/13', '19255/13', '19381/12', '19387/12', '19440/11', '19515/11', '19527/11', '19550/13', '19589/92', '19629/13', '19633/11', '19885/13', '19915/10', '1997/13', '19988/12', '20002/12', '20018/12', '20060/92', '20080/10', '20082/02', '20171/13', '20293/12', '20406/11', '20410/11', '20411/13', '20458/92', '20470/13', '20475/13', '20492/11', '20609/13', '20622/13', '20705/10', '20725/10', '20776/11', '20816/12', '20927/11', '21018/11', '21047/12', '21093/12', '21151/04', '21211/12', '21259/10', '21270/10', '21279/10', '2139/10', '21400/11', '21401/11', '21456/10', '21590/13', '21689/12', '21787/12', '21818/12', '21826/12', '2183/13', '21843/13', '21853/13', '21879/13', '21893/13', '2197/12', '22361/11', '22418/11', '22425/11', '22434/11', '22543/12', '22603/10', '22700/12', '22748/10', '2298/12', '22994/11', '23080/13', '23104/13', '23110/13', '23168/11', '23216/13', '23217/10', '23251/11', '23280/13', '23281/13', '23288/12', '23294/11', '2334/03', '23371/13', '23397/11', '23498/12', '23507/13', '23585/10', '23604/10', '23672/12', '23775/12', '23805/94', '23879/12', '23946/13', '23991/10', '24190/10', '24193/11', '24268/10', '24336/11', '24356/12', '24361/12', '24434/10', '24443/12', '24492/13', '24560/11', '24572/10', '24926/12', '24946/12', '24966/11', '25029/10', '25060/12', '25118/12', '25118/13', '25155/10', '25218/11', '2524/13', '25272/12', '25376/11', '25378/11', '25477/13', '25616/10', '25701/94', '25713/13', '25726/13', '25792/11', '25800/11', '25939/13', '26067/10', '26081/11', '26101/11', '26140/12', '26192/12', '26322/12', '26386/13', '26404/12', '2647/12', '26483/11', '26488/13', '26643/12', '26649/13', '26660/13', '26737/95', '26761/13', '26770/13', '26798/10', '26847/11', '2708/11', '271/12', '27124/12', '27153/10', '27257/10', '2729/12', '27334/12', '27345/12', '27494/10', '27536/10', '27594/10', '27662/11', '27694/11', '27695/11', '27743/12', '27746/13', '27763/11', '27850/11', '27948/12', '27986/10', '27996/06', '2800/13', '28084/10', '28185/11', '2821/12', '28232/11', '2826/12', '28261/06', '28296/10', '28342/95', '2847/12', '28516/10', '28530/10', '28586/10', '28587/10', '28667/13', '28726/10', '28796/10', '28856/95', '28858/13', '28872/10', '28927/11', '28976/10', '29000/11', '29017/13', '29029/11', '29112/10', '2924/13', '29249/12', '29265/11', '29275/13', '29342/12', '29368/10', '29500/11', '29502/11', '29543/10', '29587/12', '29725/10', '29727/10', '29746/10', '29816/11', '29828/13', '29852/10', '29864/10', '29917/11', '29983/11', '30019/10', '30021/11', '30055/10', '30062/10', '30070/10', '30154/10', '30156/10', '30166/10', '30180/10', '30201/10', '30250/10', '30262/10', '30269/10', '30284/10', '30299/10', '30311/10', '30312/10', '30323/11', '30351/12', '30384/10', '30423/10', '30430/10', '30433/10', '30437/10', '30438/10', '30445/10', '30681/10', '30743/11', '30820/10', '30900/11', '30921/11', '30923/11', '30961/10', '30966/11', '30977/11', '31156/11', '3116/11', '31185/11', '31205/10', '31249/10', '31304/12', '3131/11', '31352/11', '31358/11', '31382/11', '31383/10', '31392/10', '31407/11', '31412/10', '31414/11', '31414/12', '31427/11', '31445/10', '31453/10', '31472/10', '31490/12', '3154/13', '31582/11', '31622/10', '31636/10', '31835/10', '31852/10', '31930/10', '31941/10', '31957/10', '32022/10', '32031/10', '32035/10', '32080/11', '32165/10', '32204/10', '32219/10', '32236/10', '32240/10', '32251/10', '32315/10', '32321/10', '32323/10', '32331/11', '32376/12', '32412/10', '32431/11', '32483/11', '32484/11', '32538/11', '32554/10', '32555/96', '32559/11', '32601/11', '32618/10', '32664/12', '32714/11', '32754/10', '32793/10', '33089/11', '33151/12', '33190/11', '33202/96', '33289/10', '33297/10', '33305/10', '33312/10', '33322/10', '33344/10', '33460/10', '33473/12', '33532/12', '33635/10', '33872/11', '33916/10', '33922/10', '33941/10', '33957/11', '34044/02', '34070/10', '34153/10', '34168/10', '34185/10', '34204/10', '34213/12', '34223/11', '34229/10', '34237/10', '34280/11', '34284/11', '34289/10', '34290/10', '34293/10', '34294/10', '34297/10', '34298/10', '34317/12', '34347/10', '34369/97', '34435/10', '34444/10', '34467/10', '34503/97', '34511/12', '34515/10', '34533/10', '34545/12', '34553/10', '34565/10', '34571/10', '34637/12', '34684/10', '34691/10', '34728/10', '34735/10', '34758/10', '34761/10', '34794/10', '34830/11', '34836/06', '34861/10', '34944/11', '34953/11', '34985/10', '34991/11', '35014/11', '35014/97', '35015/10', '35018/11', '35046/11', '35198/10', '35207/10', '35217/10', '35223/10', '35265/10', '35332/05', '35457/12', '35499/11', '35508/11', '35527/11', '35694/10', '3572/06', '35752/12', '36099/12', '36100/12', '36145/10', '3615/11', '3623/11', '36261/10', '36277/10', '36320/10', '36321/10', '36364/10', '36396/10', '36500/05', '36534/12', '36535/10', '36539/10', '36559/10', '36563/10', '36567/10', '36619/10', '36632/11', '36637/10', '36642/10', '36644/10', '36645/10', '36647/10', '36650/10', '36653/10', '36654/10', '36661/10', '36666/10', '3679/12', '36805/10', '36809/10', '36945/10', '37161/10', '37162/11', '37174/11', '37185/11', '37196/10', '37207/11', '37214/10', '37239/10', '37242/10', '37293/11', '37340/10', '37410/10', '37414/11', '37415/11', '37447/11', '37575/04', '37586/06', '37596/12', '37634/10', '37634/11', '37640/10', '37644/10', '37656/10', '37669/10', '37676/10', '37680/10', '37684/10', '37686/10', '37690/10', '37695/10', '37700/10', '37701/10', '37706/10', '3772/11', '37837/10', '37851/10', '37889/11', '37889/12', '37902/11', '37943/11', '37966/10', '37975/10', '37979/10', '37983/10', '37987/10', '37992/10', '38003/10', '38011/10', '38013/10', '38036/12', '38060/10', '38140/10', '38144/10', '38358/10', '38561/10', '38596/12', '38605/12', '38614/11', '38632/11', '38674/11', '38676/11', '38680/11', '38684/11', '38685/10', '38700/11', '38705/11', '38761/11', '38772/11', '38807/10', '38829/11', '38847/11', '38853/11', '38892/10', '38892/11', '38893/12', '38897/12', '38900/12', '38903/12', '38939/10', '38953/11', '38994/10', '39014/11', '39021/11', '39026/11', '39030/11', '39041/11', '39139/12', '39313/11', '39506/11', '39585/10', '39595/12', '39621/10', '39632/10', '39657/12', '39691/10', '39951/10', '40006/12', '40010/11', '40074/11', '40118/11', '40123/11', '40137/10', '40137/12', '40150/10', '40182/10', '40184/12', '40204/10', '40206/10', '40211/10', '40297/11', '40309/11', '40372/10', '40436/10', '40466/10', '40510/10', '40514/10', '40517/10', '40564/10', '40677/10', '40714/10', '40720/10', '40754/10', '40770/10', '40793/11', '40797/11', '40798/11', '40813/10', '40818/10', '40820/11', '40823/10', '4086/12', '40870/10', '40880/10', '40884/10', '40887/10', '40901/11', '40904/11', '40907/10', '40939/10', '40976/10', '41001/11', '41005/11', '41071/11', '41078/11', '41084/11', '41183/10', '41184/11', '41196/10', '41229/10', '41245/10', '41260/10', '41264/11', '41278/11', '41375/11', '41380/11', '41433/11', '41446/11', '41450/12', '41466/12', '416/11', '41622/10', '41650/10', '41655/10', '41662/10', '41678/10', '41682/10', '41696/07', '41733/12', '41735/12', '41797/11', '41803/10', '41854/10', '41886/11', '41898/11', '41902/11', '41904/11', '42066/11', '42111/11', '42124/11', '42140/11', '42163/11', '42184/05', '42185/10', '42190/11', '42193/11', '42197/11', '42201/11', '42205/11', '42223/11', '42307/11', '42346/11', '42377/11', '42416/10', '42419/10', '42426/10', '42437/11', '42439/11', '42504/11', '42517/10', '42519/10', '42524/10', '4254/12', '42544/10', '42571/10', '42584/11', '42593/11', '42603/11', '42616/10', '42616/11', '42627/11', '42628/10', '42629/10', '42635/11', '42640/11', '42641/11', '42647/11', '4266/13', '42661/11', '42690/11', '42745/12', '42747/12', '42776/11', '42797/11', '42807/11', '42828/10', '42830/10', '42845/11', '42846/11', '42876/10', '42886/12', '42950/11', '43051/11', '43105/11', '43194/11', '43251/10', '43283/11', '43295/10', '43391/11', '43451/10', '43455/12', '43561/10', '43577/11', '43578/12', '43617/11', '43641/10', '43649/10', '43651/10', '43653/10', '43657/10', '43682/12', '43770/11', '43791/11', '43801/12', '43944/12', '43969/12', '44045/11', '44048/11', '44053/11', '44138/10', '442/11', '44251/11', '44302/02', '44382/10', '44434/11', '44474/10', '4451/70', '44515/10', '44556/10', '44560/10', '44564/10', '44565/10', '44598/10', '44608/12', '44650/11', '44688/10', '44805/10', '44809/11', '44884/12', '44912/98', '44972/10', '44980/12', '45098/11', '45235/10', '45463/11', '45499/10', '45503/10', '45515/10', '45535/10', '45542/10', '45575/10', '45722/10', '45729/10', '45731/10', '45732/12', '45736/10', '45750/10', '45761/10', '45792/10', '45853/11', '45860/11', '45877/11', '45888/10', '45938/10', '45961/10', '45977/11', '45982/10', '45996/10', '46040/10', '46044/10', '46054/12', '46129/99', '46145/12', '46153/10', '46164/10', '46169/10', '46175/10', '46187/10', '46198/10', '46255/11', '46312/12', '46321/11', '46398/12', '46441/12', '46546/11', '46560/10', '46561/10', '46720/99', '46818/11', '46825/11', '46828/10', '46834/10', '46876/10', '46933/10', '47077/11', '47135/10', '4717/12', '47179/10', '47211/10', '47226/10', '47238/12', '47337/12', '47371/10', '474/12', '47439/11', '47548/12', '47633/10', '47646/12', '47770/11', '47805/11', '47878/11', '4788/12', '47886/11', '47898/11', '47947/11', '47963/10', '47967/11', '47987/10', '48024/11', '48030/10', '48034/10', '48041/10', '48047/10', '48053/10', '48061/11', '48094/10', '48109/10', '48117/10', '48129/10', '48230/12', '48255/12', '48285/10', '48323/10', '48328/10', '48341/10', '48362/10', '48364/10', '48365/10', '48390/10', '48446/10', '48715/12', '48720/12', '48742/12', '48768/10', '48769/11', '48833/07', '48836/10', '48837/10', '48843/10', '48862/10', '48878/10', '48898/10', '48982/10', '48990/10', '49002/10', '49005/10', '49008/10', '49010/10', '49015/10', '49017/10', '49022/10', '49034/10', '49038/10', '49043/10', '49045/10', '49047/10', '49048/10', '49049/10', '49053/10', '49144/10', '49154/10', '49160/10', '49179/10', '49200/10', '49204/10', '4921/11', '49220/10', '49224/10', '49225/10', '49226/10', '49236/10', '49237/10', '49242/10', '49301/10', '49312/10', '49328/10', '4933/13', '49339/11', '49347/11', '49359/11', '49375/10', '49376/10', '49378/10', '49381/10', '49388/12', '49417/10', '49429/99', '49441/10', '49450/10', '49466/10', '49474/10', '49528/11', '49563/10', '49568/10', '49571/10', '49582/10', '49807/10', '49855/10', '49897/11', '49904/11', '49971/10', '49981/10', '50001/11', '50026/10', '50118/10', '50157/11', '50165/11', '50183/10', '5029/71', '50310/12', '5034/11', '50377/12', '50448/10', '50473/10', '50493/10', '50510/10', '50519/10', '50552/10', '50570/10', '50584/10', '50627/10', '50636/10', '50666/10', '50685/10', '50692/10', '50698/10', '50698/11', '5071/11', '50710/10', '50725/10', '50730/10', '50731/10', '50742/12', '50746/11', '50770/10', '50783/10', '50787/10', '50793/10', '50798/10', '50808/10', '50809/10', '50832/10', '50854/10', '50854/12', '50875/10', '50920/10', '50922/10', '50923/10', '50928/10', '50930/10', '5095/71', '50999/11', '51009/11', '51018/11', '51156/12', '5121/12', '51338/12', '51383/12', '51403/10', '51454/10', '51464/12', '51469/12', '51491/11', '51497/10', '51501/10', '51575/10', '51585/12', '51620/11', '51657/11', '51658/11', '51674/11', '51684/11', '51685/11', '51693/11', '51697/11', '51700/11', '51720/11', '51729/11', '51762/10', '51804/11', '51896/10', '51925/10', '52003/12', '52060/12', '52061/12', '52083/10', '52087/10', '52089/10', '52152/11', '52174/11', '52283/12', '52347/10', '52447/10', '52461/10', '52467/10', '52471/10', '52495/10', '52514/12', '52584/11', '52780/10', '52827/12', '52838/12', '52867/10', '52871/12', '52879/12', '5295/12', '53017/11', '53020/11', '53195/12', '5321/12', '53260/12', '5333/13', '53348/10', '53358/10', '53367/11', '53390/12', '53404/12', '53473/10', '5348/12', '53488/11', '53499/11', '53549/10', '53629/10', '53629/12', '53635/12', '53640/12', '53658/12', '53734/12', '53775/10', '53776/10', '53796/12', '53948/12', '53994/12', '54091/11', '5414/13', '54146/11', '54152/11', '54159/12', '54178/12', '54267/10', '54324/11', '54332/11', '54348/10', '54375/12', '54388/09', '54392/12', '54756/11', '54759/11', '54815/11', '54977/10', '54990/12', '55053/11', '55067/11', '55072/11', '55138/11', '55245/12', '55422/12', '55517/11', '55544/11', '55595/11', '55602/10', '55616/10', '55633/10', '5567/12', '5572/12', '55871/10', '55894/10', '55901/10', '56015/11', '56054/11', '56076/10', '5610/11', '56202/10', '56261/10', '56280/11', '56344/11', '56400/10', '56415/12', '56517/10', '56903/11', '5695/12', '56980/11', '56993/10', '57230/12', '57285/12', '57288/11', '57324/12', '57325/00', '57481/12', '5750/11', '57578/11', '57584/10', '57599/10', '57680/10', '57692/11', '57790/11', '57839/10', '57972/10', '58013/10', '58165/11', '58207/11', '5821/11', '58267/12', '58276/12', '58348/12', '58349/11', '58362/11', '5838/12', '58412/11', '58550/11', '58563/11', '58696/11', '58782/10', '58799/11', '58826/10', '58908/10', '58910/11', '58927/12', '58933/11', '58983/10', '58993/11', '59047/12', '59137/10', '59151/10', '5920/72', '59227/10', '59235/12', '5926/72', '59441/12', '59522/11', '59597/12', '59720/11', '59778/11', '5983/13', '59874/12', '59888/12', '59924/10', '60018/12', '60065/12', '60192/10', '60198/10', '60267/11', '60269/10', '60277/10', '60289/10', '60294/12', '6038/13', '60403/11', '6043/12', '60430/12', '6046/13', '605/12', '60531/11', '60552/11', '60607/11', '60614/11', '6065/13', '6110/11', '61189/10', '61323/12', '61392/10', '61397/10', '61407/12', '61517/10', '61684/10', '61691/12', '61811/11', '61944/12', '61980/12', '61993/11', '62003/11', '62006/11', '62022/11', '62052/11', '62074/10', '62086/11', '62100/10', '62131/10', '62146/11', '62237/11', '62241/11', '62305/12', '62389/12', '62422/12', '62450/12', '62454/12', '62540/00', '62543/12', '62832/11', '62843/12', '62856/12', '62900/11', '62907/12', '62911/10', '62990/11', '63071/11', '63077/11', '63081/11', '63094/12', '63127/12', '63202/10', '63230/12', '63241/10', '63252/12', '63259/11', '63334/12', '63336/10', '63371/11', '63407/11', '63538/10', '63542/10', '63561/10', '63758/11', '63766/12', '63814/11', '63815/11', '63990/12', '64018/12', '64022/11', '64026/11', '64033/12', '64042/11', '64047/12', '64167/12', '6418/11', '6436/12', '6442/12', '64563/11', '64572/11', '64671/10', '64895/10', '64930/10', '64934/11', '64983/10', '65049/11', '65121/11', '65184/12', '65376/11', '65426/12', '65479/11', '65519/12', '65533/12', '65534/12', '65543/12', '65731/01', '65895/12', '65900/01', '65901/11', '66028/12', '6633/11', '66357/12', '66380/12', '66403/12', '66597/10', '66615/11', '66746/01', '6677/11', '66817/11', '66828/10', '66842/12', '66887/11', '66985/12', '66992/10', '67010/10', '67047/12', '67258/11', '6730/13', '67354/12', '6756/12', '67560/12', '67694/10', '6785/11', '67859/11', '67979/11', '68151/10', '68163/11', '68172/11', '68176/12', '68266/10', '68321/12', '68448/12', '68786/12', '68839/11', '68841/11', '69006/11', '6901/11', '69028/12', '6903/12', '69032/11', '69197/11', '69238/11', '69277/10', '69361/11', '69384/11', '69389/11', '69433/12', '69435/12', '69505/11', '69656/12', '69661/12', '69699/12', '69747/11', '70017/12', '70061/11', '70087/12', '70109/11', '70282/12', '70315/10', '70399/11', '70418/10', '70435/10', '70507/10', '70593/12', '70701/10', '70785/11', '7097/10', '71009/12', '71286/12', '71313/12', '71319/12', '7142/11', '71498/11', '7151/75', '7152/75', '71638/10', '71753/11', '7193/11', '7205/02', '72090/10', '72104/12', '72137/10', '72203/01', '72206/10', '72224/12', '7226/11', '72288/10', '72290/10', '72297/10', '7236/13', '72361/10', '72413/11', '72416/12', '72437/12', '72465/11', '72530/11', '72552/01', '72590/11', '72608/11', '72618/11', '72668/10', '72678/11', '72683/10', '72715/11', '72755/11', '72790/11', '72796/11', '72817/11', '72819/11', '72881/12', '72913/11', '72937/12', '7301/11', '73014/10', '73037/10', '73115/11', '73286/10', '73421/10', '7348/11', '73526/12', '7353/13', '73582/11', '73599/10', '73617/10', '73626/10', '73638/11', '73767/12', '7380/11', '74045/10', '74090/12', '74167/12', '74184/12', '74216/11', '7435/11', '74379/11', '74423/11', '74437/10', '74621/12', '74666/12', '74679/11', '74703/12', '74705/11', '74726/12', '74735/11', '74749/11', '74830/10', '74843/12', '749/13', '74930/10', '74942/10', '7497/12', '74985/11', '75007/10', '75111/12', '75122/11', '75125/10', '75263/11', '75330/11', '75457/12', '75472/12', '75508/12', '75545/11', '7558/11', '7564/11', '75653/11', '7569/11', '75710/12', '75713/12', '75772/11', '7578/11', '75788/12', '75821/11', '75840/11', '75850/11', '75850/12', '75853/11', '76008/12', '76015/12', '76075/12', '76116/12', '76121/11', '76125/11', '76246/11', '76263/11', '76270/11', '76316/11', '76415/12', '76429/11', '7649/11', '7652/12', '76796/11', '76817/11', '76818/11', '76823/11', '76878/11', '76887/12', '76964/11', '77021/11', '7713/12', '77169/11', '7737/11', '7742/11', '77620/12', '7765/12', '77704/12', '77933/11', '77944/12', '77971/11', '78118/12', '78240/11', '78250/11', '78264/12', '78280/12', '78413/11', '7842/11', '78424/12', '78454/11', '78477/12', '78507/12', '78545/11', '78562/11', '78567/11', '7858/13', '78640/12', '7870/12', '7906/77', '7915/11', '79208/12', '79563/12', '7963/13', '803/11', '8047/13', '80555/12', '80609/12', '80640/12', '80680/12', '80686/12', '8079/11', '8081/13', '80944/12', '80975/12', '8098/13', '81055/12', '8180/13', '8186/13', '8198/13', '8203/12', '831/12', '834/12', '844/12', '8474/12', '85/13', '858/12', '8646/12', '8677/12', '8724/12', '8752/13', '8773/13', '8777/13', '8781/13', '8793/79', '8801/12', '8802/11', '8875/12', '8877/12', '890/11', '9064/11', '91/13', '919/13', '9208/12', '9212/13', '9220/13', '9400/12', '9435/13', '947/12', '9516/13', '953/12', '9663/12', '972/11', '9726/11', '9791/13', '981/12', '982/11', '982/12', '985/12', '989/12', '9897/13', '9925/11', '9948/12', '9958/12']\n",
      "\n",
      "ECLI:CE:ECHR:1996:0925JUD002034892\n",
      "HUDOC 21%  ['1/94', '1995/15', '20348/92', '28/77', '57/78']\n",
      "ANNOT 79%  ['10842/84', '12661/87', '12750/87', '13780/88', '14003/88', '16424/90', '19178/91', '23805/94', '5029/71', '7151/75', '7152/75', '9063/80', '9248/81', '9616/81', '9816/82']\n",
      "\n",
      "ECLI:CE:ECHR:2001:0118JUD002515494\n",
      "HUDOC 24%  ['1/94', '18/94', '25154/94', '28/77', '57/78']\n",
      "ANNOT 76%  ['10843/84', '16969/90', '18535/91', '19178/91', '20348/92', '31417/96', '32377/96', '33985/96', '33986/96', '34369/97', '6833/74', '7525/76', '7525/76', '9063/80']\n",
      "\n",
      "ECLI:CE:ECHR:2001:0118JUD002528994\n",
      "HUDOC 29%  ['1/94', '18/94', '25289/94', '28/77', '57/78']\n",
      "ANNOT 71%  ['10843/84', '16969/90', '18535/91', '20348/92', '31417/96', '32377/96', '34369/97', '6833/74', '7525/76', '9063/80', '9063/80']\n",
      "\n",
      "ECLI:CE:ECHR:2001:0118JUD002488294\n",
      "HUDOC 29%  ['1/94', '18/94', '24882/94', '28/77', '57/78']\n",
      "ANNOT 71%  ['10843/84', '16969/90', '18535/91', '20348/92', '31417/96', '32377/96', '34369/97', '6833/74', '7525/76', '9063/80']\n",
      "\n",
      "ECLI:CE:ECHR:1996:0916JUD002189393\n",
      "HUDOC 29%  ['10148/82', '1994/31', '21893/93', '5583/72', '788/60']\n",
      "ANNOT 86%  ['11069/84', '11889/85', '13590/88', '15576/89', '18984/91', '5310/71', '5493/72', '5577/72', '5583/72', '7654/76', '788/60', '9697/82']\n",
      "\n",
      "ECLI:CE:ECHR:2001:0118JUD002487694\n",
      "HUDOC 31%  ['1/94', '18/94', '24876/94', '28/77', '57/78']\n",
      "ANNOT 69%  ['10843/84', '18535/91', '20348/92', '31417/96', '32377/96', '34369/97', '6833/74', '7525/76', '7525/76', '9063/80']\n",
      "\n",
      "ECLI:CE:ECHR:2004:0304JUD007513901\n",
      "HUDOC 33%  ['28616/95', '30979/96', '51585/99', '75139/01']\n",
      "ANNOT 100%  ['18357/91', '19823/92', '21439/93', '28616/95', '30979/96', '32842/96', '41666/98', '51585/99', '5493/72']\n",
      "\n",
      "ECLI:CE:ECHR:2004:0729JUD005953200\n",
      "HUDOC 33%  ['135/97', '25735/94', '26530/95', '28422/95', '28945/95', '3839/93', '59532/00']\n",
      "ANNOT 83%  ['10522/83', '11011/84', '11070/84', '15318/89', '19133/91', '19823/92', '25735/94', '28422/95', '28945/95', '5493/72', '7151/75', '7152/75', '8793/79', '9063/80', '9749/82']\n",
      "\n",
      "ECLI:CE:ECHR:2007:0215JUD004385498\n",
      "HUDOC 35%  ['18888/02', '23423/94', '23819/94', '25760/94', '25801/94', '26973/95', '33646/96', '43854/98', '56679/00', '8811/02', '8813/02', '8819/02']\n",
      "ANNOT 100%  ['13416/87', '18888/02', '21893/93', '23184/94', '23185/94', '23186/94', '23423/94', '23819/94', '25760/94', '25801/94', '26973/95', '33646/96', '5310/71', '56679/00', '8803/02', '8804/02', '8805/02', '8806/02', '8807/02', '8808/02', '8809/02', '8810/02', '8811/02', '8813/02', '8815/02', '8816/02', '8817/02', '8818/02', '8819/02', '9658/82', '9659/82']\n",
      "\n",
      "ECLI:CE:ECHR:2005:1129JUD003703897\n",
      "HUDOC 35%  ['21593/93', '23423/94', '23819/94', '25760/94', '25801/94', '26973/95', '33646/96', '33804/96', '37038/97', '38719/97', '8811/02', '8813/02', '8819/02']\n",
      "ANNOT 100%  ['10588/83', '10589/83', '10590/83', '13416/87', '21593/93', '21893/93', '23184/94', '23185/94', '23186/94', '23423/94', '23819/94', '25760/94', '25801/94', '26973/95', '33646/96', '33804/96', '38719/97', '8803/02', '8804/02', '8805/02', '8806/02', '8807/02', '8808/02', '8809/02', '8810/02', '8811/02', '8813/02', '8815/02', '8816/02', '8817/02', '8818/02', '8819/02', '9658/82', '9659/82']\n",
      "\n",
      "ECLI:CE:ECHR:2003:0724JUD002697395\n",
      "HUDOC 36%  ['23819/94', '25656/94', '25657/94', '25801/94', '26973/95']\n",
      "ANNOT 100%  ['21593/93', '23184/94', '23185/94', '23186/94', '23819/94', '25656/94', '25657/94', '25801/94', '5310/71', '5310/71', '9658/82', '9658/82', '9659/82', '9659/82']\n",
      "\n",
      "ECLI:CE:ECHR:2007:0215JUD003785097\n",
      "HUDOC 38%  ['21593/93', '23423/94', '23819/94', '25760/94', '25801/94', '26973/95', '33239/96', '33646/96', '33804/96', '37038/97', '37850/97', '38719/97', '8811/02', '8813/02', '8819/02']\n",
      "ANNOT 100%  ['10588/83', '10589/83', '10590/83', '13416/87', '21593/93', '21893/93', '23184/94', '23185/94', '23186/94', '23423/94', '23819/94', '25760/94', '25801/94', '26973/95', '33239/96', '33646/96', '33804/96', '37038/97', '38719/97', '5310/71', '8803/02', '8804/02', '8805/02', '8806/02', '8807/02', '8808/02', '8809/02', '8810/02', '8811/02', '8813/02', '8815/02', '8816/02', '8817/02', '8818/02', '8819/02', '9658/82', '9659/82']\n",
      "\n",
      "ECLI:CE:ECHR:2006:0202JUD003324096\n",
      "HUDOC 39%  ['21593/93', '23423/94', '23819/94', '25760/94', '25781/94', '25801/94', '26973/95', '31195/96', '33240/96', '33646/96', '33804/96', '38719/97', '56811/00', '8811/02', '8813/02', '8819/02']\n",
      "ANNOT 100%  ['10588/83', '10589/83', '10590/83', '13416/87', '21593/93', '21893/93', '23184/94', '23185/94', '23186/94', '23423/94', '23819/94', '25760/94', '25781/94', '25801/94', '26973/95', '31195/96', '33646/96', '33804/96', '38719/97', '5310/71', '56811/00', '8803/02', '8804/02', '8805/02', '8806/02', '8807/02', '8808/02', '8809/02', '8810/02', '8811/02', '8813/02', '8815/02', '8816/02', '8817/02', '8818/02', '8819/02', '9658/82', '9659/82']\n",
      "\n",
      "ECLI:CE:ECHR:2006:0202JUD003621197\n",
      "HUDOC 39%  ['21593/93', '23423/94', '23819/94', '25760/94', '25781/94', '25801/94', '26973/95', '31195/96', '33646/96', '33804/96', '36211/97', '38719/97', '56811/00', '8811/02', '8813/02', '8819/02']\n",
      "ANNOT 100%  ['10588/83', '10589/83', '10590/83', '13416/87', '21593/93', '21893/93', '23184/94', '23185/94', '23186/94', '23423/94', '23819/94', '25760/94', '25781/94', '25801/94', '26973/95', '31195/96', '33646/96', '33804/96', '38719/97', '5310/71', '56811/00', '8803/02', '8804/02', '8805/02', '8806/02', '8807/02', '8808/02', '8809/02', '8810/02', '8811/02', '8813/02', '8815/02', '8816/02', '8817/02', '8818/02', '8819/02', '9658/82', '9659/82']\n",
      "\n",
      "ECLI:CE:ECHR:2006:0202JUD003323996\n",
      "HUDOC 39%  ['21593/93', '23423/94', '23819/94', '25760/94', '25781/94', '25801/94', '26973/95', '31195/96', '33239/96', '33646/96', '33804/96', '38719/97', '56811/00', '8811/02', '8813/02', '8819/02']\n",
      "ANNOT 100%  ['10588/83', '10589/83', '10590/83', '13416/87', '21593/93', '21893/93', '23184/94', '23185/94', '23186/94', '23423/94', '23819/94', '25760/94', '25781/94', '25801/94', '26973/95', '31195/96', '33646/96', '33804/96', '38719/97', '5310/71', '56811/00', '8803/02', '8804/02', '8805/02', '8806/02', '8807/02', '8808/02', '8809/02', '8810/02', '8811/02', '8813/02', '8815/02', '8816/02', '8817/02', '8818/02', '8819/02', '9658/82', '9659/82']\n",
      "\n",
      "ECLI:CE:ECHR:2006:0202JUD003324796\n",
      "HUDOC 39%  ['21593/93', '23423/94', '23819/94', '25760/94', '25781/94', '25801/94', '26973/95', '31195/96', '33247/96', '33646/96', '33804/96', '38719/97', '56811/00', '8811/02', '8813/02', '8819/02']\n",
      "ANNOT 100%  ['10588/83', '10589/83', '10590/83', '13416/87', '21593/93', '21893/93', '23184/94', '23185/94', '23186/94', '23423/94', '23819/94', '25760/94', '25781/94', '25801/94', '26973/95', '31195/96', '33646/96', '33804/96', '38719/97', '5310/71', '56811/00', '8803/02', '8804/02', '8805/02', '8806/02', '8807/02', '8808/02', '8809/02', '8810/02', '8811/02', '8813/02', '8815/02', '8816/02', '8817/02', '8818/02', '8819/02', '9658/82', '9659/82']\n",
      "\n",
      "ECLI:CE:ECHR:2006:0202JUD003324396\n",
      "HUDOC 39%  ['21593/93', '23423/94', '23819/94', '25760/94', '25781/94', '25801/94', '26973/95', '31195/96', '33243/96', '33646/96', '33804/96', '38719/97', '56811/00', '8811/02', '8813/02', '8819/02']\n",
      "ANNOT 100%  ['10588/83', '10589/83', '10590/83', '13416/87', '21593/93', '21893/93', '23184/94', '23185/94', '23186/94', '23423/94', '23819/94', '25760/94', '25781/94', '25801/94', '26973/95', '31195/96', '33646/96', '33804/96', '38719/97', '5310/71', '56811/00', '8803/02', '8804/02', '8805/02', '8806/02', '8807/02', '8808/02', '8809/02', '8810/02', '8811/02', '8813/02', '8815/02', '8816/02', '8817/02', '8818/02', '8819/02', '9658/82', '9659/82']\n",
      "\n",
      "ECLI:CE:ECHR:2004:1026JUD003364696\n",
      "HUDOC 44%  ['23423/94', '25781/94', '25801/94', '26973/95', '33646/96']\n",
      "ANNOT 100%  ['13416/87', '21987/93', '22729/93', '23423/94', '25781/94', '25801/94', '26973/95', '9658/82', '9659/82']\n",
      "\n",
      "ECLI:CE:ECHR:2004:0226JUD007154901\n",
      "HUDOC 45%  ['22774/93', '28616/95', '30979/96', '41354/98', '51585/99', '71549/01']\n",
      "ANNOT 100%  ['18357/91', '19823/92', '21439/93', '22774/93', '28616/95', '30979/96', '32842/96', '41354/98', '41666/98', '51585/99', '5493/72']\n",
      "\n",
      "ECLI:CE:ECHR:2013:1017JUD002701307\n",
      "HUDOC 48%  ['25446/06', '27013/07', '27238/95', '28261/06', '30562/04', '30566/04', '37341/06', '37794/05', '40987/05', '48833/07', '58255/00', '66746/01', '8811/02', '8813/02', '8819/02']\n",
      "ANNOT 97%  ['10593/08', '18984/91', '20348/92', '25446/06', '27238/95', '28261/06', '30562/04', '30566/04', '37341/06', '37794/05', '48833/07', '58255/00', '66746/01', '8803/02', '8804/02', '8805/02', '8806/02', '8807/02', '8808/02', '8809/02', '8810/02', '8811/02', '8813/02', '8815/02', '8816/02', '8817/02', '8818/02', '8819/02']\n",
      "\n",
      "ECLI:CE:ECHR:2016:0712JUD004377713\n",
      "HUDOC 48%  ['11949/86', '17153/11', '19009/04', '20082/02', '22774/93', '25088/94', '26215/95', '27023/03', '27183/04', '27265/95', '28261/06', '28331/95', '28443/95', '28856/95', '31107/96', '31827/96', '32190/96', '3572/06', '37710/97', '39544/05', '41765/98', '42150/09', '42219/07', '43777/13', '44302/02', '47045/06', '47940/99', '48833/07', '57239/00', '67335/01', '7177/10', '73049/01', '74012/01', '926/05']\n",
      "ANNOT 91%  ['10842/84', '13616/88', '16839/90', '17153/11', '17157/11', '17160/11', '17163/11', '17168/11', '17173/11', '17178/11', '17181/11', '17182/11', '17186/11', '17343/11', '17344/11', '17362/11', '17364/11', '17367/11', '17370/11', '17372/11', '17377/11', '17380/11', '17382/11', '17386/11', '17421/11', '17424/11', '17428/11', '17431/11', '17435/11', '17438/11', '17439/11', '17440/11', '17443/11', '19009/04', '22774/93', '25088/94', '25420/94', '27183/04', '27265/95', '27785/95', '28261/06', '28331/95', '28443/95', '28856/95', '31107/96', '31827/96', '32190/96', '3572/06', '37710/97', '39544/05', '42150/09', '42219/07', '44302/02', '47045/06', '47940/99', '48833/07', '6301/73', '67335/01', '7177/10', '73049/01', '74012/01', '8793/79', '926/05']\n",
      "\n",
      "ECLI:CE:ECHR:2010:0527JUD001876805\n",
      "HUDOC 49%  ['11215/03', '1704/06', '18768/05', '19853/03', '20082/02', '21911/03', '22277/93', '23204/07', '23423/94', '27238/95', '2745/03', '27651/05', '27693/95', '27785/95', '30658/05', '30779/04', '31107/96', '31195/96', '33202/96', '33492/96', '33592/96', '34049/96', '36813/97', '37048/04', '38736/04', '39964/02', '40008/04', '4048/03', '40765/02', '40774/02', '41673/98', '41917/98', '42527/98', '44277/98', '44302/02', '44698/06', '44700/06', '44912/98', '48939/99', '56547/00', '62324/00', '62543/00', '71156/01', '71503/01', '71759/01', '72118/01', '72967/01', '8811/02', '8813/02', '8819/02', '9056/02', '9103/04']\n",
      "ANNOT 89%  ['11069/84', '11197/07', '11209/84', '11234/84', '11266/84', '11386/85', '11711/07', '11894/85', '12244/86', '12245/86', '12383/86', '13616/88', '13995/07', '14022/07', '14310/88', '1704/06', '19853/03', '20378/07', '20379/07', '20380/07', '20515/07', '21893/93', '21911/03', '22277/93', '23204/07', '23423/94', '23971/07', '27238/95', '2745/03', '27651/05', '27785/95', '29758/07', '30658/05', '30779/04', '31107/96', '31195/96', '33202/96', '3326/07', '3330/07', '33492/96', '33592/96', '34049/96', '38736/04', '39964/02', '4021/08', '4022/08', '4048/03', '40765/02', '40774/02', '41673/98', '42527/98', '44277/98', '44302/02', '44698/06', '44700/06', '44722/06', '44725/06', '44912/98', '45249/07', '48939/99', '49388/06', '50034/06', '50608/07', '50617/07', '5062/07', '62324/00', '62543/00', '694/07', '71503/01', '72118/01', '72967/01', '757/07', '758/07', '8130/07', '8803/02', '8804/02', '8805/02', '8806/02', '8807/02', '8808/02', '8809/02', '8810/02', '8811/02', '8813/02', '8815/02', '8816/02', '8817/02', '8818/02', '8819/02', '9056/02', '9143/07', '9262/07', '9986/07']\n",
      "\n",
      "ECLI:CE:ECHR:2017:0718JUD003563514\n",
      "HUDOC 50%  ['35635/14', '39544/05', '47724/07', '6169/13', '7097/10']\n",
      "ANNOT 100%  ['15320/13', '2920/13', '3127/13', '39544/05', '47724/07', '58677/11', '6169/13', '7097/10']\n",
      "\n",
      "ECLI:CE:ECHR:2004:0601JUD002456194\n",
      "HUDOC 55%  ['23184/94', '23185/94', '24561/94', '25656/94', '25801/94', '26973/95', '28883/95']\n",
      "ANNOT 100%  ['15473/89', '23184/94', '23185/94', '23186/94', '25656/94', '25801/94', '26973/95', '28883/95', '5310/71', '9658/82', '9659/82']\n",
      "\n",
      "ECLI:CE:ECHR:2001:0118JUD002723895\n",
      "HUDOC 56%  ['1/94', '18/94', '27238/95', '28/77', '31417/96', '32377/96', '33985/96', '33986/96', '34369/97', '36448/97', '57/78']\n",
      "ANNOT 61%  ['10843/84', '16969/90', '18535/91', '19178/91', '20348/92', '31417/96', '32377/96', '34369/97', '6833/74', '7525/76', '9063/80']\n",
      "\n",
      "ECLI:CE:ECHR:2018:0712JUD006485511\n",
      "HUDOC 59%  ['20/10', '23682/13', '28261/06', '3572/06', '3925/10', '42150/09', '48833/07', '59909/00', '64855/11', '7177/10', '74936/12']\n",
      "ANNOT 88%  ['23682/13', '28261/06', '3572/06', '3925/10', '3955/10', '3974/10', '4009/10', '4054/10', '4128/10', '4132/10', '4133/10', '42150/09', '48833/07', '59909/00', '7177/10']\n",
      "\n",
      "ECLI:CE:ECHR:2004:0406JUD002168993\n",
      "HUDOC 59%  ['1989/62', '20764/92', '20869/92', '21594/93', '21689/93', '21986/93', '22277/93', '22876/93', '23145/93', '23531/94', '23657/94', '23763/94', '24246/94', '24351/94', '24396/94', '24541/94', '24737/94', '24739/94', '24740/94', '24741/94', '25091/94', '25656/94', '25657/94', '25659/94', '25704/94', '25801/94', '25803/94', '25878/94', '26129/95', '27244/95', '28114/95', '28524/95', '28883/95', '30210/96', '34548/97', '37555/97', '37654/97', '37703/97', '40/32', '42295/98', '43626/98', '46477/99', '47095/99', '48179/99']\n",
      "ANNOT 89%  ['10300/83', '10588/83', '10589/83', '10590/83', '11209/84', '11234/84', '11266/84', '11386/85', '12954/87', '14310/88', '18896/91', '18984/91', '20764/92', '20869/92', '20972/92', '21380/93', '21381/93', '21383/93', '21593/93', '21594/93', '21893/93', '21893/93', '21986/93', '21987/93', '22277/93', '22414/93', '22729/93', '23145/93', '23184/94', '23185/94', '23186/94', '23531/94', '23763/94', '23818/94', '24276/94', '24351/94', '24396/94', '24737/94', '24739/94', '24740/94', '24741/94', '24760/94', '25091/94', '25656/94', '25657/94', '25659/94', '25704/94', '25801/94', '25803/94', '25878/94', '26129/95', '27244/95', '28114/95', '28524/95', '28883/95', '30210/96', '34578/97', '37555/97', '37645/97', '37703/97', '42295/98', '43626/98', '46477/99', '47095/99', '48179/99', '5310/71']\n",
      "\n",
      "ECLI:CE:ECHR:2004:1118JUD005825500\n",
      "HUDOC 60%  ['24952/94', '25702/94', '58255/00', '7456/76']\n",
      "ANNOT 100%  ['20348/92', '24952/94', '25702/94', '7456/76', '9063/80', '9063/80']\n",
      "\n",
      "ECLI:CE:ECHR:2004:0527JUD006674601\n",
      "HUDOC 60%  ['14751/89', '18/94', '22774/93', '2346/02', '24876/94', '24882/94', '25154/94', '25289/94', '27138/95', '28957/95', '29515/95', '33985/96', '33986/96', '35373/97', '36022/97', '66746/01']\n",
      "ANNOT 72%  ['10522/83', '11011/84', '11070/84', '20348/92', '22774/93', '24882/94', '27238/95', '28957/95', '29515/95', '33985/96', '33986/96', '35373/97', '36022/97', '7525/76', '8793/79', '9063/80', '9658/82', '9659/82']\n",
      "\n",
      "ECLI:CE:ECHR:2005:0118JUD003621797\n",
      "HUDOC 62%  ['21594/93', '21986/93', '22277/93', '22535/93', '22676/93', '22876/93', '23423/94', '23657/94', '23763/94', '25656/94', '25657/94', '25781/94', '25801/94', '26973/95', '27602/95', '28298/95', '28883/95', '33646/96', '36217/97']\n",
      "ANNOT 97%  ['13416/87', '19009/04', '21594/93', '21986/93', '21987/93', '22277/93', '22495/93', '22535/93', '22676/93', '22729/93', '22876/93', '23178/94', '23186/94', '23423/94', '23657/94', '23763/94', '23818/94', '25656/94', '25657/94', '25781/94', '26973/95', '27602/95', '28298/95', '28883/95', '33646/96', '5310/71', '9658/82', '9659/82']\n",
      "\n",
      "ECLI:CE:ECHR:2009:1022JUD000357206\n",
      "HUDOC 64%  ['19009/04', '28261/06', '3572/06', '51/85', '58255/00', '66746/01', '7205/02', '7456/76']\n",
      "ANNOT 91%  ['10842/84', '19009/04', '20348/92', '21893/93', '28261/06', '58255/00', '66746/01', '7205/02', '7456/76', '9063/80']\n",
      "\n",
      "ECLI:CE:ECHR:2011:0621JUD004883307\n",
      "HUDOC 67%  ['19009/04', '28261/06', '31107/96', '34979/97', '35298/04', '36/91', '48833/07', '58255/00', '66746/01', '7205/02', '7456/76']\n",
      "ANNOT 87%  ['19009/04', '20348/92', '21893/93', '25420/94', '28261/06', '31107/96', '35298/04', '58255/00', '6301/73', '66746/01', '7205/02', '7456/76', '9063/80']\n",
      "\n",
      "ECLI:CE:ECHR:2007:0524JUD003271802\n",
      "HUDOC 67%  ['25701/94', '31423/96', '32718/02']\n",
      "ANNOT 100%  ['19009/04', '25701/94', '31423/96']\n",
      "\n",
      "ECLI:CE:ECHR:2013:1205JUD006498212\n",
      "HUDOC 69%  ['19009/04', '28261/06', '31107/96', '3572/06', '42150/09', '48833/07', '56679/00', '58255/00', '64982/12', '66746/01', '7205/02', '7456/76']\n",
      "ANNOT 100%  ['10842/84', '19009/04', '20348/92', '25420/94', '28261/06', '31107/96', '3572/06', '42150/09', '48833/07', '56679/00', '58255/00', '6301/73', '66746/01', '7205/02', '7456/76', '9063/80']\n",
      "\n",
      "ECLI:CE:ECHR:2012:0424JUD002544606\n",
      "HUDOC 72%  ['19009/04', '25446/06', '27238/95', '28261/06', '29515/95', '31465/08', '33985/96', '33986/96', '34369/97', '37341/06', '39022/97', '39748/98', '41138/98', '43546/02', '45603/05', '48833/07', '48939/99', '57325/00', '64320/01', '65731/01', '66746/01', '75951/01']\n",
      "ANNOT 90%  ['1474/62', '1677/62', '1691/62', '1769/63', '19009/04', '1994/63', '20348/92', '2126/64', '27238/95', '28261/06', '29515/95', '31465/08', '33985/96', '33986/96', '34369/97', '37341/06', '39748/98', '41138/98', '43546/02', '48833/07', '48939/99', '57325/00', '64320/01', '65731/01', '65900/01', '66746/01']\n",
      "\n",
      "ECLI:CE:ECHR:2013:0718JUD000717710\n",
      "HUDOC 74%  ['10626/83', '14294/04', '18968/07', '19009/04', '28261/06', '31107/96', '31965/07', '3572/06', '39388/05', '42150/09', '48833/07', '58255/00', '59909/00', '66746/01', '7177/10', '7205/02', '7456/76', '77116/01']\n",
      "ANNOT 91%  ['10842/84', '14294/04', '18968/07', '19009/04', '20348/92', '21893/93', '25420/94', '28261/06', '31107/96', '31965/07', '3572/06', '39388/05', '42150/09', '48833/07', '58255/00', '59909/00', '6301/73', '66746/01', '7205/02', '7456/76', '9063/80']\n",
      "\n",
      "ECLI:CE:ECHR:2017:0314JUD006661010\n",
      "HUDOC 75%  ['19009/04', '58255/00', '66610/10', '66746/01']\n",
      "ANNOT 100%  ['19009/04', '20348/92', '58255/00', '66746/01']\n",
      "\n",
      "ECLI:CE:ECHR:2018:0111JUD001061316\n",
      "HUDOC 77%  ['10613/16', '14/16', '16219/90', '17056/06', '18766/11', '21846/08', '22/17', '2226/10', '22774/93', '2334/03', '25/17', '25358/12', '28025/03', '28114/95', '28342/95', '29392/95', '29813/96', '30229/96', '31102/06', '31107/96', '31210/96', '31454/12', '32/17', '32715/06', '32907/07', '33509/04', '33771/02', '35/17', '35349/05', '35382/97', '35810/09', '36/16', '36030/11', '36220/97', '36813/97', '37971/97', '38317/06', '38319/06', '38433/09', '38450/05', '39766/05', '40167/06', '40765/02', '42/17', '42883/11', '44730/98', '46720/99', '48939/99', '50/17', '51/17', '58858/00', '59498/00', '604/07', '62902/00', '63/17', '64480/09', '66/16', '6858/11', '72203/01', '72552/01', '74258/01', '77617/01', '77822/01', '79/16', '8196/02', '89/16', '9074/07']\n",
      "ANNOT 84%  ['12874/10', '13092/87', '13984/88', '15318/89', '16219/90', '17056/06', '18357/91', '18766/11', '19263/92', '21846/08', '2226/10', '22729/93', '22774/93', '2334/03', '25358/12', '28025/03', '28114/95', '28342/95', '29392/95', '29813/96', '30210/96', '30229/96', '31102/06', '31107/96', '31107/96', '3129/12', '31454/12', '32715/06', '32907/07', '33509/04', '33771/02', '34770/09', '35349/05', '35382/97', '35810/09', '36030/11', '36220/97', '36813/97', '37971/97', '38317/06', '38319/06', '38433/09', '38450/05', '39766/05', '40167/06', '40765/02', '42883/11', '43628/07', '4451/02', '44730/98', '46684/07', '46720/99', '48939/99', '56935/10', '58858/00', '59498/00', '604/07', '62902/00', '64480/09', '64482/09', '6858/11', '7151/75', '7151/75', '7152/75', '7152/75', '72203/01', '72552/01', '74258/01', '77617/01', '77822/01', '8196/02', '8793/79', '9074/07', '9658/82', '9658/82', '9659/82', '9659/82']\n",
      "\n",
      "ECLI:CE:ECHR:2013:0725JUD002718304\n",
      "HUDOC 78%  ['19009/04', '1980/81', '20082/02', '25149/03', '26307/95', '27183/04', '28856/95', '31107/96', '36813/97', '37453/97', '43376/06', '43586/04', '44302/02', '51564/99', '57220/00']\n",
      "ANNOT 83%  ['19009/04', '20082/02', '21893/93', '25149/03', '26307/95', '31107/96', '36813/97', '37453/97', '43376/06', '43586/04', '51564/99', '57220/00', '7151/75', '7152/75', '8793/79']\n",
      "\n",
      "ECLI:CE:ECHR:2014:0619JUD003890613\n",
      "HUDOC 81%  ['18968/07', '19009/04', '28261/06', '31965/07', '3572/06', '38906/13', '39388/05', '42150/09', '48833/07', '56679/00', '59909/00', '66746/01', '7177/10', '7205/02']\n",
      "ANNOT 100%  ['10842/84', '18968/07', '19009/04', '25420/94', '28261/06', '31965/07', '3572/06', '39388/05', '42150/09', '48833/07', '56679/00', '59909/00', '6301/73', '66746/01', '7177/10', '7205/02']\n",
      "\n",
      "ECLI:CE:ECHR:2009:0716JUD002008202\n",
      "HUDOC 81%  ['114/83', '128/72', '13151/04', '133/88', '165/01', '19009/04', '20082/02', '23/17', '28856/95', '31107/96', '31827/96', '39221/98', '41963/98', '43588/06', '44302/02', '52854/99', '66746/01', '73049/01']\n",
      "ANNOT 62%  ['13151/04', '14967/89', '19009/04', '20348/92', '21893/93', '28342/95', '28856/95', '31827/96', '39221/98', '41963/98', '44302/02', '52854/99', '66746/01']\n",
      "\n",
      "ECLI:CE:ECHR:2007:1009JUD000720502\n",
      "HUDOC 82%  ['21949/03', '23/00', '25088/94', '25735/94', '28114/95', '28331/95', '28443/95', '32686/96', '40345/98', '48/97', '48398/99', '55523/00', '7205/02', '72991/01', '7510/04']\n",
      "ANNOT 65%  ['19776/92', '19823/92', '21949/03', '25088/94', '25735/94', '28114/95', '28331/95', '28443/95', '55523/00', '7510/04', '9063/80']\n",
      "\n",
      "ECLI:CE:ECHR:2012:0216JUD000908904\n",
      "HUDOC 83%  ['19443/03', '40450/04', '48757/99', '75139/01', '8415/02', '9089/04']\n",
      "ANNOT 100%  ['19443/03', '21439/93', '40450/04', '48757/99', '75139/01', '8415/02']\n",
      "\n",
      "ECLI:CE:ECHR:2010:0921JUD003734106\n",
      "HUDOC 83%  ['19009/04', '22774/93', '2346/02', '27138/95', '28957/95', '33985/96', '33986/96', '36022/97', '37341/06', '59532/00', '66746/01']\n",
      "ANNOT 50%  ['19009/04', '20348/92', '27238/95', '33985/96', '33986/96', '66746/01']\n",
      "\n",
      "ECLI:CE:ECHR:2005:0222JUD004714899\n",
      "HUDOC 84%  ['23144/93', '35091/02', '35196/02', '35201/02', '35204/02', '35216/97', '35945/02', '35949/02', '35953/02', '36800/02', '38296/02', '4143/02', '42814/02', '47148/99', '48995/99', '53984/00', '71549/01']\n",
      "ANNOT 95%  ['13092/87', '13984/88', '16798/90', '23144/93', '35091/02', '35196/02', '35201/02', '35204/02', '35945/02', '35949/02', '35953/02', '36800/02', '38296/02', '4143/02', '42814/02', '48995/99', '53984/00', '71549/01']\n",
      "\n",
      "ECLI:CE:ECHR:2020:0804JUD004481718\n",
      "HUDOC 85%  ['1411/03', '21682/11', '22251/08', '25545/14', '27013/07', '27238/95', '28261/06', '30544/96', '33586/15', '34044/02', '36184/13', '43494/09', '44817/18', '46577/15', '66610/10', '70520/10', '7097/10', '7177/10']\n",
      "ANNOT 95%  ['1411/03', '21682/11', '21920/10', '22251/08', '25545/14', '27013/07', '27238/95', '28261/06', '30544/96', '34044/02', '35746/11', '36184/13', '41876/11', '43494/09', '46577/15', '66610/10', '70520/10', '7097/10', '7177/10']\n",
      "\n",
      "ECLI:CE:ECHR:2013:1003JUD004672611\n",
      "HUDOC 85%  ['114/01', '1151/09', '129/00', '137/99', '141/06', '146/08', '153/09', '20082/02', '22/00', '28261/06', '31360/10', '38/09', '42150/09', '46726/11', '47940/99', '48833/07', '56679/00', '57220/00', '66746/01', '68/98', '73/00', '73049/01', '79/06', '91/96']\n",
      "ANNOT 48%  ['10842/84', '20348/92', '27785/95', '28261/06', '31360/10', '42150/09', '47940/99', '48833/07', '56679/00', '57220/00', '66746/01', '73049/01', '9063/80']\n",
      "\n",
      "ECLI:CE:ECHR:2008:0513JUD001900904\n",
      "HUDOC 86%  ['11716/85', '11949/86', '19009/04', '28027/95', '32540/96', '59532/00', '66746/01']\n",
      "ANNOT 43%  ['20348/92', '59532/00', '66746/01']\n",
      "\n",
      "ECLI:CE:ECHR:2016:1020JUD003400007\n",
      "HUDOC 86%  ['18639/03', '19009/04', '21447/03', '30499/03', '30856/03', '31365/96', '34000/07', '40450/04', '47148/99', '50963/99', '7097/10', '75139/01', '9089/04']\n",
      "ANNOT 93%  ['19009/04', '21447/03', '30499/03', '30856/03', '31365/96', '40450/04', '47148/99', '50963/99', '7097/10', '75139/01', '9089/04', '9658/82', '9659/82']\n",
      "\n",
      "ECLI:CE:ECHR:2012:1002JUD006903710\n",
      "HUDOC 86%  ['22774/93', '2577/02', '34647/97', '36337/03', '36496/02', '36813/97', '42150/09', '42338/98', '48833/07', '50342/99', '69037/10', '71186/01', '7205/02']\n",
      "ANNOT 86%  ['18357/91', '19133/91', '22774/93', '2577/02', '34647/97', '36337/03', '36496/02', '36813/97', '42150/09', '50342/99', '71186/01', '7205/02']\n",
      "\n",
      "ECLI:CE:ECHR:2012:0918JUD004006008\n",
      "HUDOC 88%  ['19009/04', '27138/95', '35014/97', '3572/06', '37341/06', '40060/08', '66746/01', '8793/79']\n",
      "ANNOT 62%  ['19009/04', '27238/95', '3572/06', '37341/06', '66746/01']\n",
      "\n",
      "ECLI:CE:ECHR:2012:0529JUD004215009\n",
      "HUDOC 88%  ['1606/00', '19009/04', '28261/06', '31107/96', '3572/06', '36448/97', '391/02', '42150/09', '56679/00', '58255/00', '590/03', '66746/01', '7205/02', '7456/76', '998/03']\n",
      "ANNOT 69%  ['19009/04', '20348/92', '28261/06', '31107/96', '3572/06', '56679/00', '58255/00', '66746/01', '7205/02', '7456/76', '9063/80']\n",
      "\n",
      "ECLI:CE:ECHR:2009:0115JUD002826106\n",
      "HUDOC 88%  ['19009/04', '25088/94', '28261/06', '28331/95', '28443/95', '55523/00', '66746/01', '7205/02']\n",
      "ANNOT 100%  ['10842/84', '19009/04', '25088/94', '28331/95', '28443/95', '55523/00', '66746/01', '7205/02']\n",
      "\n",
      "ECLI:CE:ECHR:2010:0302JUD001310202\n",
      "HUDOC 89%  ['13102/02', '16064/90', '16065/90', '16066/90', '16068/90', '16069/90', '16070/90', '16071/90', '16072/90', '16073/90', '28/03', '301/07', '30544/96', '30873/96', '31/02', '33290/96', '33985/96', '33986/96', '34979/97', '35667/02', '40016/98', '42326/98', '43546/02', '45330/99', '63831/00', '9063/80']\n",
      "ANNOT 79%  ['16064/90', '16065/90', '16066/90', '16068/90', '16069/90', '16070/90', '16071/90', '16072/90', '16073/90', '21893/93', '22985/93', '23390/94', '30544/96', '30873/96', '33290/96', '33985/96', '33986/96', '40016/98', '42326/98', '43546/02', '45330/99', '9063/80']\n",
      "\n",
      "ECLI:CE:ECHR:2016:0421JUD004657715\n",
      "HUDOC 89%  ['16219/90', '19009/04', '20082/02', '21487/12', '21861/03', '25446/06', '27013/07', '27183/04', '27238/95', '28261/06', '29381/09', '30422/03', '30856/03', '31673/11', '32684/09', '34044/02', '35179/97', '3572/06', '36925/10', '37341/06', '37451/97', '40060/08', '42150/09', '4251/02', '43494/09', '46577/15', '48876/08', '5591/07', '58255/00', '6571/04', '66387/10', '66746/01', '7097/10', '7177/10', '7205/02', '72893/12', '73196/12', '77718/12', '77938/11', '7984/06', '9717/13']\n",
      "ANNOT 93%  ['16219/90', '19009/04', '20348/92', '21487/12', '21861/03', '25446/06', '27013/07', '27183/04', '27238/95', '27785/95', '28261/06', '29381/09', '30422/03', '30856/03', '31673/11', '32684/09', '34044/02', '35179/97', '3572/06', '36925/10', '37341/06', '37451/97', '40060/08', '42150/09', '4251/02', '48876/08', '5591/07', '58255/00', '66387/10', '66746/01', '7097/10', '7177/10', '7205/02', '72893/12', '73196/12', '7525/76', '77718/12', '77938/11', '7984/06', '8793/79', '9717/13', '9783/82']\n",
      "\n",
      "ECLI:CE:ECHR:2004:1109JUD002249493\n",
      "HUDOC 89%  ['18896/91', '21689/93', '21893/93', '21986/93', '22494/93', '23184/94', '23185/94', '23186/94', '23531/94', '23656/94', '23819/94', '24351/94', '24561/94', '25656/94', '25801/94', '25803/94', '26129/95', '26307/95', '26973/95', '37715/97', '38361/97', '43577/98', '43579/98', '45/90', '51564/99']\n",
      "ANNOT 37%  ['15318/89', '23184/94', '23185/94', '23186/94', '23531/94', '23819/94', '25801/94', '26973/95', '9658/82', '9659/82']\n",
      "\n",
      "ECLI:CE:ECHR:2011:1206JUD000709710\n",
      "HUDOC 89%  ['10/22', '14340/05', '18156/05', '19009/04', '22774/93', '23166/04', '25701/94', '28261/06', '28342/95', '28856/95', '31138/96', '31423/96', '31443/96', '32457/05', '33202/96', '37527/97', '41673/98', '43590/04', '44302/02', '48833/07', '6518/04', '65582/01', '66746/01', '7097/10', '7205/02']\n",
      "ANNOT 85%  ['14340/05', '18156/05', '19009/04', '22774/93', '25701/94', '28261/06', '28342/95', '28856/95', '31423/96', '31443/96', '32457/05', '33202/96', '41673/98', '43590/04', '44302/02', '48833/07', '6518/04', '65582/01', '66746/01', '7151/75', '7152/75', '7205/02', '8692/79']\n",
      "\n",
      "ECLI:CE:ECHR:2015:0129JUD001571113\n",
      "HUDOC 90%  ['14340/05', '15711/13', '17373/02', '17647/04', '18156/05', '25701/94', '28261/06', '28856/95', '31423/96', '31443/96', '32457/05', '41673/98', '43590/04', '44302/02', '48833/07', '65582/01', '66746/01', '7097/10', '7177/10']\n",
      "ANNOT 100%  ['10842/84', '14340/05', '17373/02', '17647/04', '18156/05', '25701/94', '28261/06', '28856/95', '31423/96', '31443/96', '32457/05', '41673/98', '43590/04', '44302/02', '48833/07', '65582/01', '66746/01', '7097/10', '7177/10', '8692/79']\n",
      "\n",
      "ECLI:CE:ECHR:2021:0323JUD003636614\n",
      "HUDOC 91%  ['1220/09', '19009/04', '22768/12', '24720/13', '25446/06', '27013/07', '27238/95', '33586/15', '3537/13', '36366/14', '37341/06', '37685/10', '40060/08', '43494/09', '44817/18', '48833/07', '6577/15', '659/07', '66387/10', '7097/10', '7177/10']\n",
      "ANNOT 73%  ['19009/04', '22768/12', '24720/13', '25446/06', '27013/07', '27238/95', '35746/11', '37341/06', '37685/10', '40060/08', '43494/09', '44817/18', '46577/15', '66387/10', '7097/10', '7177/10']\n",
      "\n",
      "ECLI:CE:ECHR:2011:0203JUD000657104\n",
      "HUDOC 93%  ['13151/04', '137/98', '19009/04', '19960/04', '20887/03', '22000/03', '23377/02', '26083/94', '34489/05', '3572/06', '42509/05', '5124/03', '52854/99', '53180/99', '5730/03', '59498/00', '59532/00', '63235/00', '63973/00', '6571/04', '66746/01', '69889/01', '72701/01', '7761/77', '837/03', '8630/03']\n",
      "ANNOT 85%  ['18357/91', '19009/04', '19960/04', '20887/03', '22000/03', '23377/02', '26083/94', '28342/95', '34489/05', '3572/06', '42509/05', '5124/03', '52854/99', '5730/03', '59498/00', '59532/00', '63235/00', '63973/00', '66746/01', '69889/01', '72701/01', '837/03', '8630/03']\n",
      "\n",
      "ECLI:CE:ECHR:2016:1220JUD002168211\n",
      "HUDOC 94%  ['10511/10', '19009/04', '20082/02', '21682/11', '24916/05', '25444/94', '26083/94', '28261/06', '28394/95', '32447/02', '33071/96', '36590/97', '38629/97', '38978/97', '42139/08', '42150/09', '44164/14', '46577/15', '47848/08', '48833/07', '55853/00', '56422/09', '56581/00', '57795/00', '59552/08', '66746/01', '7097/10', '73053/01', '8702/04', '9174/02']\n",
      "ANNOT 68%  ['10511/10', '14518/89', '16970/90', '19009/04', '20082/02', '24916/05', '26083/94', '28261/06', '36590/97', '42139/08', '42150/09', '44164/14', '46577/15', '47848/08', '48833/07', '56422/09', '59552/08', '66746/01', '7097/10', '73053/01', '9174/02']\n",
      "\n",
      "ECLI:CE:ECHR:2010:1202JUD003085603\n",
      "HUDOC 100%  ['10337/04', '1365/07', '19009/04', '20082/02', '22479/93', '28261/06', '30856/03', '31111/04', '33202/96', '3572/06', '39948/06', '48321/99', '58255/00', '66746/01', '7205/02', '78146/01']\n",
      "ANNOT 100%  ['10337/04', '1365/07', '19009/04', '20082/02', '22479/93', '28261/06', '31111/04', '33202/96', '3572/06', '39948/06', '48321/99', '58255/00', '66746/01', '7205/02', '78146/01']\n",
      "\n",
      "ECLI:CE:ECHR:2020:0903JUD001749619\n",
      "HUDOC 100%  ['10122/19', '11171/19', '12556/03', '17496/19', '1870/05', '2660/03', '30856/03', '33234/07', '33401/02', '3564/11', '41237/14', '41261/17', '41526/10', '4494/07', '47848/08', '49645/09', '55164/08', '57693/10', '5786/08', '61382/09', '71127/01']\n",
      "ANNOT 90%  ['12556/03', '1870/05', '2660/03', '30856/03', '33234/07', '33401/02', '3564/11', '41237/14', '41261/17', '41526/10', '4494/07', '47848/08', '49645/09', '55164/08', '57693/10', '5786/08', '61382/09', '71127/01']\n",
      "\n",
      "ECLI:CE:ECHR:2018:0517JUD001736514\n",
      "HUDOC 100%  ['17365/14', '19009/04', '25446/06', '27013/07', '28261/06', '30856/03', '34000/07', '39964/02', '58216/12']\n",
      "ANNOT 100%  ['19009/04', '25446/06', '27013/07', '28261/06', '30856/03', '34000/07', '39964/02', '58216/12']\n",
      "\n",
      "ECLI:CE:ECHR:2018:1127JUD004456011\n",
      "HUDOC 100%  ['16574/08', '19009/04', '28261/06', '32265/10', '44560/11', '47848/08', '66746/01', '76240/01']\n",
      "ANNOT 57%  ['19009/04', '28261/06', '47848/08', '66746/01']\n",
      "\n",
      "ECLI:CE:ECHR:2018:0515JUD005438209\n",
      "HUDOC 100%  ['19009/04', '54382/09', '66746/01']\n",
      "ANNOT 100%  ['19009/04', '66746/01']\n",
      "\n",
      "ECLI:CE:ECHR:2020:0616JUD006739417\n",
      "HUDOC 100%  ['19009/04', '28261/06', '30856/03', '66610/10', '66746/01', '67394/17']\n",
      "ANNOT 100%  ['19009/04', '28261/06', '30856/03', '66610/10', '66746/01']\n",
      "\n",
      "ECLI:CE:ECHR:2020:0317JUD004419914\n",
      "HUDOC 100%  ['1/30', '16899/13', '19009/04', '2782/12', '30856/03', '35589/08', '38951/13', '44199/14', '47848/08', '59611/13', '66610/10', '66746/01', '67810/10']\n",
      "ANNOT 92%  ['16899/13', '19009/04', '2782/12', '30856/03', '35589/08', '38951/13', '47848/08', '59611/13', '66610/10', '66746/01', '67810/10']\n",
      "\n",
      "ECLI:CE:ECHR:2019:0521JUD001462009\n",
      "HUDOC 100%  ['14620/09', '19009/04', '28261/06', '3572/06', '66746/01']\n",
      "ANNOT 100%  ['19009/04', '28261/06', '3572/06', '66746/01']\n",
      "\n",
      "ECLI:CE:ECHR:2018:0717JUD006124015\n",
      "HUDOC 100%  ['19009/04', '28261/06', '30856/03', '46043/14', '47848/08', '61240/15', '66610/10', '66746/01']\n",
      "ANNOT 100%  ['19009/04', '28261/06', '30856/03', '46043/14', '47848/08', '66610/10', '66746/01']\n",
      "\n",
      "ECLI:CE:ECHR:2018:0206JUD006403116\n",
      "HUDOC 100%  ['19009/04', '64031/16', '66746/01']\n",
      "ANNOT 100%  ['19009/04', '66746/01']\n",
      "\n",
      "ECLI:CE:ECHR:2017:1121JUD004705611\n",
      "HUDOC 100%  ['16899/13', '19009/04', '38951/13', '47056/11', '59611/13', '66746/01', '67810/10']\n",
      "ANNOT 100%  ['16899/13', '19009/04', '38951/13', '59611/13', '66746/01', '67810/10']\n",
      "\n",
      "ECLI:CE:ECHR:2017:1003JUD000783915\n",
      "HUDOC 100%  ['44912/98', '7097/10', '7839/15']\n",
      "ANNOT 100%  ['44912/98', '7097/10']\n",
      "\n",
      "ECLI:CE:ECHR:2017:0725JUD006982010\n",
      "HUDOC 100%  ['19009/04', '66746/01', '69820/10']\n",
      "ANNOT 100%  ['19009/04', '66746/01']\n",
      "\n",
      "ECLI:CE:ECHR:2016:0913JUD007573713\n",
      "HUDOC 100%  ['17373/02', '33202/96', '38951/13', '59611/13', '7097/10', '7205/02', '75737/13']\n",
      "ANNOT 100%  ['17373/02', '33202/96', '38951/13', '59611/13', '7097/10', '7205/02']\n",
      "\n",
      "ECLI:CE:ECHR:2011:0726JUD001500304\n",
      "HUDOC 100%  ['15003/04', '36813/97', '73316/01']\n",
      "ANNOT 100%  ['36813/97', '73316/01']\n",
      "\n",
      "ECLI:CE:ECHR:2021:0114JUD005966009\n",
      "HUDOC 100%  ['11236/09', '19009/04', '27427/02', '30856/03', '34000/07', '39229/03', '43777/13', '47143/06', '47848/08', '4909/04', '59660/09', '67810/10', '7177/10']\n",
      "ANNOT 92%  ['11236/09', '27427/02', '30856/03', '34000/07', '39229/03', '43777/13', '47143/06', '47848/08', '4909/04', '67810/10', '7177/10']\n",
      "\n",
      "ECLI:CE:ECHR:2017:1214JUD001995707\n",
      "HUDOC 100%  ['19009/04', '19957/07', '25446/06', '27013/07', '30856/03', '34000/07', '39964/02', '71186/01']\n",
      "ANNOT 100%  ['19009/04', '25446/06', '27013/07', '30856/03', '34000/07', '39964/02', '71186/01']\n",
      "\n"
     ]
    }
   ],
   "source": [
    "for ecli, row in annotated_cases.sort_values(by='% hudoc').drop(columns=['itemid', 'article_hudoc', 'article_annotations', 'appno']).iterrows():\n",
    "    print(ecli)\n",
    "    print(f\"HUDOC {row['% hudoc']}%  {sorted(row['case_hudoc_appno'])}\")\n",
    "    print(f\"ANNOT {row['% annotations']}%  {sorted(row['case_annotations_appno'])}\")\n",
    "    print()"
   ],
   "metadata": {
    "collapsed": false,
    "pycharm": {
     "name": "#%%\n"
    }
   }
  },
  {
   "cell_type": "code",
   "execution_count": null,
   "outputs": [],
   "source": [],
   "metadata": {
    "collapsed": false,
    "pycharm": {
     "name": "#%%\n"
    }
   }
  }
 ],
 "metadata": {
  "kernelspec": {
   "display_name": "Python 3",
   "language": "python",
   "name": "python3"
  },
  "language_info": {
   "codemirror_mode": {
    "name": "ipython",
    "version": 2
   },
   "file_extension": ".py",
   "mimetype": "text/x-python",
   "name": "python",
   "nbconvert_exporter": "python",
   "pygments_lexer": "ipython2",
   "version": "2.7.6"
  }
 },
 "nbformat": 4,
 "nbformat_minor": 0
}