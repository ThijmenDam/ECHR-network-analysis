{
 "cells": [
  {
   "cell_type": "code",
   "execution_count": 12,
   "outputs": [],
   "source": [
    "import api\n",
    "import helpers"
   ],
   "metadata": {
    "collapsed": false,
    "pycharm": {
     "name": "#%%\n"
    }
   }
  },
  {
   "cell_type": "markdown",
   "source": [
    "### Fetch metadata: ECLI example"
   ],
   "metadata": {
    "collapsed": false,
    "pycharm": {
     "name": "#%% md\n"
    }
   }
  },
  {
   "cell_type": "code",
   "execution_count": 13,
   "outputs": [
    {
     "name": "stdout",
     "output_type": "stream",
     "text": [
      ">> Start iteration for 3 ECLIs.\n",
      ">> Done, could not improve further. Identified 3 cases in 3 ECLIs.\n"
     ]
    }
   ],
   "source": [
    "ECLIs = [\n",
    "    'ECLI:CE:ECHR:2001:0118JUD002515494',\n",
    "    'ECLI:CE:ECHR:2001:0118JUD002528994',\n",
    "    'ECLI:CE:ECHR:2001:0118JUD002487694'\n",
    "]\n",
    "\n",
    "metadata = await api.hudoc_judgments_metadata(by='ecli', cases=ECLIs)"
   ],
   "metadata": {
    "collapsed": false,
    "pycharm": {
     "name": "#%%\n"
    }
   }
  },
  {
   "cell_type": "code",
   "execution_count": 14,
   "outputs": [
    {
     "data": {
      "text/plain": "[{'sharepointid': '324309',\n  'Rank': '363.310363769531',\n  'ECHRRanking': '1501',\n  'languagenumber': '1',\n  'itemid': '001-59158',\n  'docname': 'CASE OF JANE SMITH v. THE UNITED KINGDOM',\n  'doctype': 'HEJUD',\n  'application': 'MS WORD',\n  'appno': '25154/94',\n  'conclusion': 'No violation of Art. 8;No violation of P1-1;No violation of P1-2;No violation of Art. 6-1;No violation of Art. 14',\n  'importance': '2',\n  'originatingbody': '8',\n  'typedescription': '14',\n  'kpdate': '1/18/2001 12:00:00 AM',\n  'kpdateAsText': '18/01/2001 00:00:00',\n  'documentcollectionid': 'CASELAW;JUDGMENTS;GRANDCHAMBER;ENG',\n  'documentcollectionid2': 'CASELAW;JUDGMENTS;GRANDCHAMBER;ENG',\n  'languageisocode': 'ENG',\n  'extractedappno': '25154/94;28/77;57/78;1/94;18/94',\n  'isplaceholder': 'False',\n  'doctypebranch': 'GRANDCHAMBER',\n  'respondent': 'GBR',\n  'advopidentifier': '',\n  'advopstatus': '',\n  'ecli': 'ECLI:CE:ECHR:2001:0118JUD002515494',\n  'appnoparts': '25154;94',\n  'sclappnos': '19178/91;20348/92;10843/84;7525/76;9063/80;16969/90;18535/91;31417/96;32377/96;6833/74;34369/97'},\n {'sharepointid': '422449',\n  'Rank': '363.310363769531',\n  'ECHRRanking': '1501',\n  'languagenumber': '1',\n  'itemid': '001-59157',\n  'docname': 'CASE OF LEE v. THE UNITED KINGDOM',\n  'doctype': 'HEJUD',\n  'application': 'MS WORD',\n  'appno': '25289/94',\n  'conclusion': 'No violation of Art. 8;No violation of P1-1;No violation of P1-2;No violation of Art. 14',\n  'importance': '2',\n  'originatingbody': '8',\n  'typedescription': '14',\n  'kpdate': '1/18/2001 12:00:00 AM',\n  'kpdateAsText': '18/01/2001 00:00:00',\n  'documentcollectionid': 'CASELAW;JUDGMENTS;GRANDCHAMBER;ENG',\n  'documentcollectionid2': 'CASELAW;JUDGMENTS;GRANDCHAMBER;ENG',\n  'languageisocode': 'ENG',\n  'extractedappno': '25289/94;28/77;57/78;1/94;18/94',\n  'isplaceholder': 'False',\n  'doctypebranch': 'GRANDCHAMBER',\n  'respondent': 'GBR',\n  'advopidentifier': '',\n  'advopstatus': '',\n  'ecli': 'ECLI:CE:ECHR:2001:0118JUD002528994',\n  'appnoparts': '25289;94',\n  'sclappnos': '20348/92;10843/84;7525/76;9063/80;16969/90;18535/91;31417/96;32377/96;6833/74;34369/97'},\n {'sharepointid': '324307',\n  'Rank': '363.310363769531',\n  'ECHRRanking': '1501',\n  'languagenumber': '1',\n  'itemid': '001-59156',\n  'docname': 'CASE OF COSTER v. THE UNITED KINGDOM',\n  'doctype': 'HEJUD',\n  'application': 'MS WORD',\n  'appno': '24876/94',\n  'conclusion': 'No violation of Art. 8;No violation of P1-1;No violation of P1-2;No violation of Art. 14',\n  'importance': '2',\n  'originatingbody': '8',\n  'typedescription': '14',\n  'kpdate': '1/18/2001 12:00:00 AM',\n  'kpdateAsText': '18/01/2001 00:00:00',\n  'documentcollectionid': 'CASELAW;JUDGMENTS;GRANDCHAMBER;ENG',\n  'documentcollectionid2': 'CASELAW;JUDGMENTS;GRANDCHAMBER;ENG',\n  'languageisocode': 'ENG',\n  'extractedappno': '24876/94;28/77;57/78;1/94;18/94',\n  'isplaceholder': 'False',\n  'doctypebranch': 'GRANDCHAMBER',\n  'respondent': 'GBR',\n  'advopidentifier': '',\n  'advopstatus': '',\n  'ecli': 'ECLI:CE:ECHR:2001:0118JUD002487694',\n  'appnoparts': '24876;94',\n  'sclappnos': '20348/92;10843/84;7525/76;9063/80;16969/90;18535/91;31417/96;32377/96;6833/74;34369/97'}]"
     },
     "execution_count": 14,
     "metadata": {},
     "output_type": "execute_result"
    }
   ],
   "source": [
    "metadata"
   ],
   "metadata": {
    "collapsed": false,
    "pycharm": {
     "name": "#%%\n"
    }
   }
  },
  {
   "cell_type": "markdown",
   "source": [
    "### Fetch metadata: APPNO example"
   ],
   "metadata": {
    "collapsed": false,
    "pycharm": {
     "name": "#%% md\n"
    }
   }
  },
  {
   "cell_type": "code",
   "execution_count": 15,
   "outputs": [
    {
     "name": "stdout",
     "output_type": "stream",
     "text": [
      ">> Start iteration for 3 APPNOs.\n",
      ">> Done, could not improve further. Identified 3 cases in 3 APPNOs.\n"
     ]
    }
   ],
   "source": [
    "APPNOs = [\n",
    "    '25154/94',\n",
    "    '25289/94',\n",
    "    '24876/94'\n",
    "]\n",
    "\n",
    "metadata = await api.hudoc_judgments_metadata(by='appno', cases=APPNOs)"
   ],
   "metadata": {
    "collapsed": false,
    "pycharm": {
     "name": "#%%\n"
    }
   }
  },
  {
   "cell_type": "code",
   "execution_count": 16,
   "outputs": [
    {
     "data": {
      "text/plain": "[{'sharepointid': '324309',\n  'Rank': '1501',\n  'ECHRRanking': '1501',\n  'languagenumber': '1',\n  'itemid': '001-59158',\n  'docname': 'CASE OF JANE SMITH v. THE UNITED KINGDOM',\n  'doctype': 'HEJUD',\n  'application': 'MS WORD',\n  'appno': '25154/94',\n  'conclusion': 'No violation of Art. 8;No violation of P1-1;No violation of P1-2;No violation of Art. 6-1;No violation of Art. 14',\n  'importance': '2',\n  'originatingbody': '8',\n  'typedescription': '14',\n  'kpdate': '1/18/2001 12:00:00 AM',\n  'kpdateAsText': '18/01/2001 00:00:00',\n  'documentcollectionid': 'CASELAW;JUDGMENTS;GRANDCHAMBER;ENG',\n  'documentcollectionid2': 'CASELAW;JUDGMENTS;GRANDCHAMBER;ENG',\n  'languageisocode': 'ENG',\n  'extractedappno': '25154/94;28/77;57/78;1/94;18/94',\n  'isplaceholder': 'False',\n  'doctypebranch': 'GRANDCHAMBER',\n  'respondent': 'GBR',\n  'advopidentifier': '',\n  'advopstatus': '',\n  'ecli': 'ECLI:CE:ECHR:2001:0118JUD002515494',\n  'appnoparts': '25154;94',\n  'sclappnos': '19178/91;20348/92;10843/84;7525/76;9063/80;16969/90;18535/91;31417/96;32377/96;6833/74;34369/97'},\n {'sharepointid': '422449',\n  'Rank': '1501',\n  'ECHRRanking': '1501',\n  'languagenumber': '1',\n  'itemid': '001-59157',\n  'docname': 'CASE OF LEE v. THE UNITED KINGDOM',\n  'doctype': 'HEJUD',\n  'application': 'MS WORD',\n  'appno': '25289/94',\n  'conclusion': 'No violation of Art. 8;No violation of P1-1;No violation of P1-2;No violation of Art. 14',\n  'importance': '2',\n  'originatingbody': '8',\n  'typedescription': '14',\n  'kpdate': '1/18/2001 12:00:00 AM',\n  'kpdateAsText': '18/01/2001 00:00:00',\n  'documentcollectionid': 'CASELAW;JUDGMENTS;GRANDCHAMBER;ENG',\n  'documentcollectionid2': 'CASELAW;JUDGMENTS;GRANDCHAMBER;ENG',\n  'languageisocode': 'ENG',\n  'extractedappno': '25289/94;28/77;57/78;1/94;18/94',\n  'isplaceholder': 'False',\n  'doctypebranch': 'GRANDCHAMBER',\n  'respondent': 'GBR',\n  'advopidentifier': '',\n  'advopstatus': '',\n  'ecli': 'ECLI:CE:ECHR:2001:0118JUD002528994',\n  'appnoparts': '25289;94',\n  'sclappnos': '20348/92;10843/84;7525/76;9063/80;16969/90;18535/91;31417/96;32377/96;6833/74;34369/97'},\n {'sharepointid': '324307',\n  'Rank': '1501',\n  'ECHRRanking': '1501',\n  'languagenumber': '1',\n  'itemid': '001-59156',\n  'docname': 'CASE OF COSTER v. THE UNITED KINGDOM',\n  'doctype': 'HEJUD',\n  'application': 'MS WORD',\n  'appno': '24876/94',\n  'conclusion': 'No violation of Art. 8;No violation of P1-1;No violation of P1-2;No violation of Art. 14',\n  'importance': '2',\n  'originatingbody': '8',\n  'typedescription': '14',\n  'kpdate': '1/18/2001 12:00:00 AM',\n  'kpdateAsText': '18/01/2001 00:00:00',\n  'documentcollectionid': 'CASELAW;JUDGMENTS;GRANDCHAMBER;ENG',\n  'documentcollectionid2': 'CASELAW;JUDGMENTS;GRANDCHAMBER;ENG',\n  'languageisocode': 'ENG',\n  'extractedappno': '24876/94;28/77;57/78;1/94;18/94',\n  'isplaceholder': 'False',\n  'doctypebranch': 'GRANDCHAMBER',\n  'respondent': 'GBR',\n  'advopidentifier': '',\n  'advopstatus': '',\n  'ecli': 'ECLI:CE:ECHR:2001:0118JUD002487694',\n  'appnoparts': '24876;94',\n  'sclappnos': '20348/92;10843/84;7525/76;9063/80;16969/90;18535/91;31417/96;32377/96;6833/74;34369/97'}]"
     },
     "execution_count": 16,
     "metadata": {},
     "output_type": "execute_result"
    }
   ],
   "source": [
    "metadata"
   ],
   "metadata": {
    "collapsed": false,
    "pycharm": {
     "name": "#%%\n"
    }
   }
  },
  {
   "cell_type": "code",
   "execution_count": null,
   "outputs": [],
   "source": [],
   "metadata": {
    "collapsed": false,
    "pycharm": {
     "name": "#%%\n"
    }
   }
  }
 ],
 "metadata": {
  "kernelspec": {
   "display_name": "Python 3",
   "language": "python",
   "name": "python3"
  },
  "language_info": {
   "codemirror_mode": {
    "name": "ipython",
    "version": 2
   },
   "file_extension": ".py",
   "mimetype": "text/x-python",
   "name": "python",
   "nbconvert_exporter": "python",
   "pygments_lexer": "ipython2",
   "version": "2.7.6"
  }
 },
 "nbformat": 4,
 "nbformat_minor": 0
}